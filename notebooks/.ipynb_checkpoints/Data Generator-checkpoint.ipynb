{
 "cells": [
  {
   "cell_type": "code",
   "execution_count": 1,
   "metadata": {},
   "outputs": [
    {
     "name": "stderr",
     "output_type": "stream",
     "text": [
      "In C:\\Python36\\lib\\site-packages\\matplotlib\\mpl-data\\stylelib\\_classic_test.mplstyle: \n",
      "The text.latex.preview rcparam was deprecated in Matplotlib 3.3 and will be removed two minor releases later.\n",
      "In C:\\Python36\\lib\\site-packages\\matplotlib\\mpl-data\\stylelib\\_classic_test.mplstyle: \n",
      "The mathtext.fallback_to_cm rcparam was deprecated in Matplotlib 3.3 and will be removed two minor releases later.\n",
      "In C:\\Python36\\lib\\site-packages\\matplotlib\\mpl-data\\stylelib\\_classic_test.mplstyle: Support for setting the 'mathtext.fallback_to_cm' rcParam is deprecated since 3.3 and will be removed two minor releases later; use 'mathtext.fallback : 'cm' instead.\n",
      "In C:\\Python36\\lib\\site-packages\\matplotlib\\mpl-data\\stylelib\\_classic_test.mplstyle: \n",
      "The validate_bool_maybe_none function was deprecated in Matplotlib 3.3 and will be removed two minor releases later.\n",
      "In C:\\Python36\\lib\\site-packages\\matplotlib\\mpl-data\\stylelib\\_classic_test.mplstyle: \n",
      "The savefig.jpeg_quality rcparam was deprecated in Matplotlib 3.3 and will be removed two minor releases later.\n",
      "In C:\\Python36\\lib\\site-packages\\matplotlib\\mpl-data\\stylelib\\_classic_test.mplstyle: \n",
      "The keymap.all_axes rcparam was deprecated in Matplotlib 3.3 and will be removed two minor releases later.\n",
      "In C:\\Python36\\lib\\site-packages\\matplotlib\\mpl-data\\stylelib\\_classic_test.mplstyle: \n",
      "The animation.avconv_path rcparam was deprecated in Matplotlib 3.3 and will be removed two minor releases later.\n",
      "In C:\\Python36\\lib\\site-packages\\matplotlib\\mpl-data\\stylelib\\_classic_test.mplstyle: \n",
      "The animation.avconv_args rcparam was deprecated in Matplotlib 3.3 and will be removed two minor releases later.\n"
     ]
    }
   ],
   "source": [
    "from __future__ import print_function\n",
    "from sklearn import datasets\n",
    "import matplotlib.pyplot as plt\n",
    "import numpy as np\n",
    "\n",
    "import pandas as pd\n",
    "from numpy import save\n",
    "import matplotlib.pyplot as plt\n",
    "from tqdm import tqdm\n",
    "\n",
    "from sklearn.model_selection import train_test_split\n",
    "from sklearn import preprocessing\n",
    "from sklearn.utils import shuffle\n",
    "from sklearn.preprocessing import MinMaxScaler\n",
    "\n",
    "import time\n"
   ]
  },
  {
   "cell_type": "code",
   "execution_count": 2,
   "metadata": {},
   "outputs": [
    {
     "name": "stderr",
     "output_type": "stream",
     "text": [
      "Using TensorFlow backend.\n"
     ]
    }
   ],
   "source": [
    "import sys\n",
    "\n",
    "sys.path.append(\"C:/Users/admin/Desktop/IP Paris/MICAS/Cours/910/913 - Deep Learning/Project/\")\n",
    "\n",
    "# Import helper functions\n",
    "from networks import NeuralNetwork\n",
    "from optimization.optimizers import StochasticGradientDescent, Adam, RMSprop, Adagrad, Adadelta\n",
    "from networks.loss_functions import CrossEntropy, SquareLoss\n",
    "from utils.misc import bar_widgets\n",
    "from networks.layers import Dense, Dropout, Activation, BatchNormalization\n",
    "\n",
    "from helpers.helper import *\n",
    "from helpers.processing import *\n",
    "\n",
    "from Channel.parameters import *\n",
    "from Channel.transmitor import *\n",
    "from Channel.modulator import *\n",
    "from Channel.channel import *\n",
    "from Channel.equalizer import *\n",
    "from Channel.demodulator import *\n",
    "from Channel.detector import *\n",
    "from nnet_Generator.NNetGenerator import *"
   ]
  },
  {
   "cell_type": "code",
   "execution_count": null,
   "metadata": {},
   "outputs": [],
   "source": [
    "import matplotlib.pyplot as plt \n",
    "import numpy as np\n",
    "import glob\n",
    "import os, sys\n",
    "fpath =\"path_Of_my_final_Big_File\"\n",
    "npyfilespath =\"path_of_my_numpy_files\"   \n",
    "os.chdir(npyfilespath)\n",
    "npfiles= glob.glob(\"*.npy\")\n",
    "npfiles.sort()\n",
    "all_arrays = []\n",
    "for i, npfile in enumerate(npfiles):\n",
    "    all_arrays.append(np.load(os.path.join(npyfilespath, npfile)))\n",
    "np.save(fpath, np.concatenate(all_arrays))"
   ]
  },
  {
   "cell_type": "markdown",
   "metadata": {},
   "source": [
    "# Data Generation"
   ]
  },
  {
   "cell_type": "code",
   "execution_count": 3,
   "metadata": {},
   "outputs": [],
   "source": [
    "# Generating the dataset\n",
    "def generateDataset(nbrOfObservations, parameters, transmitor, modulator, equalizer, nnetGen, demodulator, detector, isGaussian =False):\n",
    "\n",
    "    X = np.ndarray((nbrOfObservations, parameters.N), dtype=np.complex128)\n",
    "    y = np.ndarray((nbrOfObservations, parameters.N), dtype=np.complex128)    \n",
    "    bits_in = np.ndarray((nbrOfObservations, parameters.nb), dtype=np.int)\n",
    "    bhat_out = np.ndarray((nbrOfObservations, parameters.nb), dtype=np.int)\n",
    "    symb_in = np.ndarray((nbrOfObservations, parameters.n))\n",
    "    symb_out = np.ndarray((nbrOfObservations, parameters.n))\n",
    "\n",
    "\n",
    "    print(\"[INFO] Generating the dataset...\")\n",
    "\n",
    "    for i in tqdm(range(nbrOfObservations)):\n",
    "        \n",
    "        # Constellation\n",
    "        constellation = transmitor.build_constellations(parameters.M)\n",
    "        \n",
    "        #source\n",
    "        source = transmitor.source(parameters.nb , parameters.p) # USE IT FOR NEXT PART OF BITS\n",
    "        \n",
    "        # Bits to Symboles - symbol sequence\n",
    "        bitsToSymbols = transmitor.bit_to_symb(source, parameters.M)\n",
    "\n",
    "        # symbol sequence, we create a list of values of the complex symbols to use them in modulation\n",
    "        s = transmitor.bit_to_symb(source, parameters.M)\n",
    "        \n",
    "        # channel - we take gaussian input\n",
    "        if isGaussian:\n",
    "            q0t = parameters.A*np.exp(-parameters.t**2) \n",
    "\n",
    "        else :\n",
    "            q0t = modulator.mod(parameters.t,s, parameters.B)  \n",
    "        \n",
    "        # Neural Net Generator\n",
    "        y_gen = nnetGen.nnet_gen(q0t)\n",
    "        # equalized y_gen\n",
    "        qzte, qzfe = equalizer.equalize(parameters.t, y_gen, parameters.z) # equalized output\n",
    "        qzte = qzte.reshape(1,-1)\n",
    "        # demodulation\n",
    "        shat = demodulator.demod(parameters.t, parameters.dt, qzte, parameters.B, parameters.n)\n",
    "\n",
    "        # detection\n",
    "        stilde, indexes = detector.detector(shat, parameters.M)\n",
    "        bhat = detector.symbols_to_bit(indexes, parameters.M)\n",
    "        \n",
    "        # SOURCE IS THE SEQUENCE OF BITS TO BE LEARNED\n",
    "        \n",
    "        # Modulated signal\n",
    "        X[i] = np.squeeze(q0t)\n",
    "        # Neural Net Generator\n",
    "        y[i] = y_gen\n",
    "        # original bit sequence (source)\n",
    "        bits_in[i] = source\n",
    "        # estimated bit sequence\n",
    "        bhat_out[i] = bhat\n",
    "        # original symbol sequence (source)\n",
    "\n",
    "        symb_in[i] = np.squeeze(s)\n",
    "        # estimated symbol sequence\n",
    "        symb_out[i] = np.squeeze(stilde)\n",
    "        \n",
    "    print(\"[INFO] The dataset is ready now !\")\n",
    "\n",
    "    return X, y, bits_in, bhat_out, symb_in, symb_out"
   ]
  },
  {
   "cell_type": "code",
   "execution_count": 4,
   "metadata": {},
   "outputs": [],
   "source": [
    "def generate_dataset_multiple_power_symbols(nbrOfObservations, nsymbols_arr, M_arr, power_arr, isGaussian=False):\n",
    "       \n",
    "    # bandwidth\n",
    "    bandwidth = 1\n",
    "    # Sample size\n",
    "    Nt = 2**10\n",
    "    # Number of Layers of the Generative network\n",
    "    nLayers = 500\n",
    "    \n",
    "    for power in power_arr :\n",
    "        for M in M_arr :\n",
    "            for nsymbols in nsymbols_arr :\n",
    "                \n",
    "                # Number of bits\n",
    "                nb = int(nsymbols * np.log2(M)) \n",
    "                timeMesh = int( (nb/bandwidth)+ (10*2/ nb) )\n",
    "                # Initialize parameters\n",
    "                parameters = Parameters(bandwidth, nsymbols, M, Nt, nLayers, timeMesh)\n",
    "                # Initialize the Transmitor\n",
    "                transmitor = Transmitor()\n",
    "                # Initialize the Transmitor\n",
    "                modulator = Modulator()\n",
    "                # Initialize the Channel\n",
    "                channel = Channel()\n",
    "                # Initialize the Equalizer\n",
    "                equalizer = Equalizer()\n",
    "                # Initialize the NNetGenerator\n",
    "                nnetGen = NNetGenerator(parameters)\n",
    "                # Initialize the Detector\n",
    "                detector = Detector(transmitor)\n",
    "                # Initialize the Demodulator\n",
    "                demodulator = Demodulator()\n",
    "                \n",
    "                X, y, bits_in, bhat_out, symb_in, symb_out = generateDataset(nbrOfObservations, parameters, transmitor, modulator, equalizer, nnetGen, demodulator, detector, isGaussian)\n",
    "                \n",
    "                # saving the dataset\n",
    "                file_saved_name = \"../data/new/data_power_\"+str(power)+\"_nsymbols_\"+str(nsymbols)+\"_M_\"+str(M)+\".npz\"\n",
    "                np.savez_compressed(file_saved_name, X=X, y=y, bits_in=bits_in, bhat_out=bhat_out, symb_in=symb_in, symb_out=symb_out)\n",
    "\n",
    "                print(\"[INFO] Saved generated data for power = \", power, \" , nsymbols = \",nsymbols , \" , M = \",M)"
   ]
  },
  {
   "cell_type": "code",
   "execution_count": null,
   "metadata": {},
   "outputs": [
    {
     "name": "stderr",
     "output_type": "stream",
     "text": [
      "  0%|                                                                                         | 0/5000 [00:00<?, ?it/s]C:\\Python36\\lib\\site-packages\\ipykernel_launcher.py:59: ComplexWarning: Casting complex values to real discards the imaginary part\n",
      "C:\\Python36\\lib\\site-packages\\ipykernel_launcher.py:61: ComplexWarning: Casting complex values to real discards the imaginary part\n",
      "  0%|                                                                                 | 1/5000 [00:00<14:34,  5.71it/s]"
     ]
    },
    {
     "name": "stdout",
     "output_type": "stream",
     "text": [
      "[INFO] Generating the dataset...\n"
     ]
    },
    {
     "name": "stderr",
     "output_type": "stream",
     "text": [
      "100%|██████████████████████████████████████████████████████████████████████████████| 5000/5000 [13:16<00:00,  6.28it/s]\n"
     ]
    },
    {
     "name": "stdout",
     "output_type": "stream",
     "text": [
      "[INFO] The dataset is ready now !\n"
     ]
    },
    {
     "name": "stderr",
     "output_type": "stream",
     "text": [
      "\r",
      "  0%|                                                                                         | 0/5000 [00:00<?, ?it/s]"
     ]
    },
    {
     "name": "stdout",
     "output_type": "stream",
     "text": [
      "[INFO] Saved generated data for power =  0.06  , nsymbols =  1  , M =  8\n",
      "[INFO] Generating the dataset...\n"
     ]
    },
    {
     "name": "stderr",
     "output_type": "stream",
     "text": [
      " 96%|███████████████████████████████████████████████████████████████████████████   | 4810/5000 [29:45<01:16,  2.49it/s]"
     ]
    }
   ],
   "source": [
    "# Number of symbols\n",
    "nsymbols_arr = [1, 16]\n",
    "# size of the constellation\n",
    "M_arr = [8,16,32,64]\n",
    "# powers\n",
    "power_arr = [6e-2, 5e-2, 4e-2, 2e-2]\n",
    "# nbrOfObservations\n",
    "nbrOfObservations = 5000\n",
    "generate_dataset_multiple_power_symbols(nbrOfObservations, nsymbols_arr, M_arr, power_arr)"
   ]
  },
  {
   "cell_type": "markdown",
   "metadata": {},
   "source": [
    "# An example of the generated data"
   ]
  },
  {
   "cell_type": "code",
   "execution_count": 48,
   "metadata": {},
   "outputs": [],
   "source": [
    "d1 = np.load('../data/new/data_power_0.06_nsymbols_1_M_16.npz')"
   ]
  },
  {
   "cell_type": "code",
   "execution_count": 49,
   "metadata": {},
   "outputs": [],
   "source": [
    "X, y, bits_in, bhat_out, symb_in, symb_out = d1['X'], d1['y'], d1['bits_in'], d1['bhat_out'], d1['symb_in'],d1['symb_out']"
   ]
  },
  {
   "cell_type": "code",
   "execution_count": 7,
   "metadata": {},
   "outputs": [
    {
     "name": "stderr",
     "output_type": "stream",
     "text": [
      "C:\\Python36\\lib\\site-packages\\numpy\\core\\_asarray.py:83: ComplexWarning: Casting complex values to real discards the imaginary part\n",
      "  return array(a, dtype, copy=False, order=order)\n",
      "C:\\Python36\\lib\\site-packages\\numpy\\core\\_asarray.py:83: ComplexWarning: Casting complex values to real discards the imaginary part\n",
      "  return array(a, dtype, copy=False, order=order)\n"
     ]
    },
    {
     "data": {
      "text/plain": [
       "[<matplotlib.lines.Line2D at 0x205d183ca20>]"
      ]
     },
     "execution_count": 7,
     "metadata": {},
     "output_type": "execute_result"
    },
    {
     "data": {
      "image/png": "[encoded data removed]",
      "text/plain": [
       "<Figure size 432x288 with 1 Axes>"
      ]
     },
     "metadata": {
      "needs_background": "light"
     },
     "output_type": "display_data"
    }
   ],
   "source": [
    "plt.plot(X[0])\n",
    "plt.plot(y[0])"
   ]
  },
  {
   "cell_type": "code",
   "execution_count": 50,
   "metadata": {},
   "outputs": [
    {
     "data": {
      "text/plain": [
       "[<matplotlib.lines.Line2D at 0x13e6c49bac8>]"
      ]
     },
     "execution_count": 50,
     "metadata": {},
     "output_type": "execute_result"
    },
    {
     "data": {
      "image/png": "[encoded data removed]",
      "text/plain": [
       "<Figure size 432x288 with 1 Axes>"
      ]
     },
     "metadata": {
      "needs_background": "light"
     },
     "output_type": "display_data"
    }
   ],
   "source": [
    "plt.plot(np.abs(X[0]))\n",
    "plt.plot(np.abs(y[0]))"
   ]
  }
 ],
 "metadata": {
  "kernelspec": {
   "display_name": "Python 3.6.8 64-bit",
   "language": "python",
   "name": "python36864bit5d1453442e8543df8126f0c5c89733bf"
  },
  "language_info": {
   "codemirror_mode": {
    "name": "ipython",
    "version": 3
   },
   "file_extension": ".py",
   "mimetype": "text/x-python",
   "name": "python",
   "nbconvert_exporter": "python",
   "pygments_lexer": "ipython3",
   "version": "3.6.8"
  }
 },
 "nbformat": 4,
 "nbformat_minor": 2
}
