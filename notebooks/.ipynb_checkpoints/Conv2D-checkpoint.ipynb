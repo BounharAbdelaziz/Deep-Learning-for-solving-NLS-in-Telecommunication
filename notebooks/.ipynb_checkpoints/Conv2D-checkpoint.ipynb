{
 "cells": [
  {
   "cell_type": "code",
   "execution_count": 5,
   "metadata": {},
   "outputs": [],
   "source": [
    "from __future__ import print_function\n",
    "from sklearn import datasets\n",
    "import matplotlib.pyplot as plt\n",
    "import numpy as np\n",
    "import sys\n",
    "\n",
    "sys.path.append(\"C:/Users/admin/Desktop/IP Paris/MICAS/Cours/910/913 - Deep Learning/Project/\")\n",
    "\n",
    "# Import helper functions\n",
    "from networks import NeuralNetwork\n",
    "from optimization.optimizers import StochasticGradientDescent, Adam, RMSprop, Adagrad, Adadelta\n",
    "from networks.loss_functions import CrossEntropy, SquareLoss\n",
    "from utils.misc import bar_widgets\n",
    "from networks.layers import Dense, Dropout, Activation, BatchNormalization, Conv2D, Flatten\n",
    "from helpers.helper import *\n",
    "from helpers.processing import *\n",
    "\n",
    "import pandas as pd\n",
    "from numpy import save\n",
    "import matplotlib.pyplot as plt\n",
    "from tqdm import tqdm\n",
    "\n",
    "from sklearn.model_selection import train_test_split\n",
    "from sklearn import preprocessing\n",
    "from sklearn.utils import shuffle\n",
    "from sklearn.preprocessing import MinMaxScaler\n",
    "\n",
    "\n",
    "\n",
    "import time"
   ]
  },
  {
   "cell_type": "code",
   "execution_count": 3,
   "metadata": {},
   "outputs": [
    {
     "name": "stderr",
     "output_type": "stream",
     "text": [
      "  0%|▏                                                                             | 74/30000 [00:00<00:40, 739.70it/s]"
     ]
    },
    {
     "name": "stdout",
     "output_type": "stream",
     "text": [
      "\n",
      " [INFO] {fromComplexToReal} runing...\n",
      "\n",
      " [INFO] vect_real.shape :  (30000, 2048)\n"
     ]
    },
    {
     "name": "stderr",
     "output_type": "stream",
     "text": [
      "100%|███████████████████████████████████████████████████████████████████████████| 30000/30000 [00:31<00:00, 949.19it/s]\n",
      "  0%|▎                                                                           | 101/30000 [00:00<00:29, 1000.04it/s]"
     ]
    },
    {
     "name": "stdout",
     "output_type": "stream",
     "text": [
      " [INFO] {fromComplexToReal} vect_real.shape :  (30000, 2048)\n",
      "\n",
      " [INFO] {fromComplexToReal} runing...\n",
      "\n",
      " [INFO] vect_real.shape :  (30000, 2048)\n"
     ]
    },
    {
     "name": "stderr",
     "output_type": "stream",
     "text": [
      "100%|██████████████████████████████████████████████████████████████████████████| 30000/30000 [00:29<00:00, 1032.75it/s]\n"
     ]
    },
    {
     "name": "stdout",
     "output_type": "stream",
     "text": [
      " [INFO] {fromComplexToReal} vect_real.shape :  (30000, 2048)\n",
      "{prepareDataFrame} df_.shape :  (30000, 4096)\n",
      "Toral time to prepare the dataframe is :  68.0830819606781  seconds.\n"
     ]
    }
   ],
   "source": [
    "t1 = time.time()\n",
    "d2= np.load('../data/data_1_30K_P6e-2.npz')\n",
    "#d2= np.load('../data/data_1_90K_P6e-2_P5e-2_P2.6e-2.npz')\n",
    "X = d2['X']\n",
    "y = d2['y']\n",
    "\n",
    "# if scaling=True, we are using min-max scaler\n",
    "df = prepareDataFrame(X, y, scaling=False)\n",
    "#df.to_csv(\"../data/data_90K.csv.gz\", index=False, compression=\"gzip\")\n",
    "t2 = time.time()\n",
    "print(\"Toral time to prepare the dataframe is : \", t2-t1, \" seconds.\")\n",
    "\n",
    "X = df.iloc[:, 2048:4096]\n",
    "y = df.iloc[:, 0:2048]\n",
    "\n",
    "n_samples, n_features = X.shape\n",
    "n_hidden = 512"
   ]
  },
  {
   "cell_type": "code",
   "execution_count": 6,
   "metadata": {},
   "outputs": [
    {
     "name": "stdout",
     "output_type": "stream",
     "text": [
      "[INFO] - {prepareTrainAndTestData} converting from pandas to numpy...\n",
      "[INFO] train and test data are ready.\n",
      "X.shape :  (30000, 2048)\n",
      "y.shape :  (30000, 2048)\n",
      "X_train.shape :  (18000, 2048, 1)\n",
      "y_train.shape :  (18000, 2048, 1)\n",
      "X_test.shape :  (12000, 2048, 1)\n",
      "y_test.shape :  (12000, 2048, 1)\n"
     ]
    }
   ],
   "source": [
    "withReshape = True\n",
    "ts = 0.4\n",
    "X_train, X_test, y_train, y_test = prepareTrainAndTestData(df, withReshape, ts)"
   ]
  },
  {
   "cell_type": "code",
   "execution_count": 7,
   "metadata": {},
   "outputs": [],
   "source": [
    "x_tr = X_train[0:1000,:,:]\n",
    "x_te = X_test[1100:1500,:,:]\n",
    "y_tr = y_train[0:1000,:,:]\n",
    "y_te = y_test[1100:1500,:,:]"
   ]
  },
  {
   "cell_type": "code",
   "execution_count": 8,
   "metadata": {},
   "outputs": [
    {
     "data": {
      "text/plain": [
       "(400, 2048, 1)"
      ]
     },
     "execution_count": 8,
     "metadata": {},
     "output_type": "execute_result"
    }
   ],
   "source": [
    "y_te.shape"
   ]
  },
  {
   "cell_type": "code",
   "execution_count": 9,
   "metadata": {},
   "outputs": [],
   "source": [
    "# Reshape X to (n_samples, channels, height, width)\n",
    "X_train = x_tr.reshape((x_tr.shape[0],2,32,32))\n",
    "X_test = x_te.reshape((x_te.shape[0],2,32,32))\n",
    "y_train = np.squeeze(y_tr)\n",
    "y_test = np.squeeze(y_te)"
   ]
  },
  {
   "cell_type": "code",
   "execution_count": 10,
   "metadata": {},
   "outputs": [
    {
     "data": {
      "text/plain": [
       "(1000, 2, 32, 32)"
      ]
     },
     "execution_count": 10,
     "metadata": {},
     "output_type": "execute_result"
    }
   ],
   "source": [
    "X_train.shape"
   ]
  },
  {
   "cell_type": "code",
   "execution_count": 11,
   "metadata": {},
   "outputs": [],
   "source": [
    "index_plot = 689"
   ]
  },
  {
   "cell_type": "code",
   "execution_count": 12,
   "metadata": {},
   "outputs": [
    {
     "data": {
      "text/plain": [
       "<matplotlib.image.AxesImage at 0x2553322a7b8>"
      ]
     },
     "execution_count": 12,
     "metadata": {},
     "output_type": "execute_result"
    },
    {
     "data": {
      "image/png": "[encoded data removed]",
      "text/plain": [
       "<Figure size 432x288 with 1 Axes>"
      ]
     },
     "metadata": {
      "needs_background": "light"
     },
     "output_type": "display_data"
    }
   ],
   "source": [
    "plt.imshow(X_train[index_plot][0])"
   ]
  },
  {
   "cell_type": "code",
   "execution_count": 13,
   "metadata": {},
   "outputs": [
    {
     "data": {
      "text/plain": [
       "<matplotlib.image.AxesImage at 0x25533316908>"
      ]
     },
     "execution_count": 13,
     "metadata": {},
     "output_type": "execute_result"
    },
    {
     "data": {
      "image/png": "[encoded data removed]",
      "text/plain": [
       "<Figure size 432x288 with 1 Axes>"
      ]
     },
     "metadata": {
      "needs_background": "light"
     },
     "output_type": "display_data"
    }
   ],
   "source": [
    "plt.imshow(X_train[index_plot][1])"
   ]
  },
  {
   "cell_type": "code",
   "execution_count": 26,
   "metadata": {},
   "outputs": [],
   "source": [
    "optimizer = Adam()\n",
    "opti = 'Adam'\n",
    "n_features = 2048\n",
    "n_output = 2048\n",
    "clf = NeuralNetwork(optimizer=optimizer,\n",
    "                        loss=SquareLoss,\n",
    "                        validation_data=(X_test, y_test))"
   ]
  },
  {
   "cell_type": "code",
   "execution_count": 27,
   "metadata": {},
   "outputs": [
    {
     "name": "stdout",
     "output_type": "stream",
     "text": [
      "\n",
      "+--------+\n",
      "| Conv2D |\n",
      "+--------+\n",
      "Input Shape: (2, 32, 32)\n",
      "+---------------------------+------------+--------------+\n",
      "| Layer Type                | Parameters | Output Shape |\n",
      "+---------------------------+------------+--------------+\n",
      "| Conv2D                    | 608        | (32, 32, 32) |\n",
      "| Activation (MyActivation) | 0          | (32, 32, 32) |\n",
      "| Dropout                   | 0          | (32, 32, 32) |\n",
      "| BatchNormalization        | 65536      | (32, 32, 32) |\n",
      "| Conv2D                    | 9248       | (32, 32, 32) |\n",
      "| Activation (MyActivation) | 0          | (32, 32, 32) |\n",
      "| Dropout                   | 0          | (32, 32, 32) |\n",
      "| BatchNormalization        | 65536      | (32, 32, 32) |\n",
      "| Flatten                   | 0          | (32768,)     |\n",
      "| Dense                     | 524304     | (16,)        |\n",
      "| Activation (MyActivation) | 0          | (16,)        |\n",
      "| Dropout                   | 0          | (16,)        |\n",
      "| BatchNormalization        | 32         | (16,)        |\n",
      "| Dense                     | 34816      | (2048,)      |\n",
      "| Activation (MyActivation) | 0          | (2048,)      |\n",
      "+---------------------------+------------+--------------+\n",
      "Total Parameters: 700080\n",
      "\n"
     ]
    }
   ],
   "source": [
    "clf.add(Conv2D(n_filters=32, filter_shape=(3,3), stride=1, input_shape=(2,32,32), padding='same'))\n",
    "clf.add(Activation('myactivation'))\n",
    "clf.add(Dropout(0.25))\n",
    "clf.add(BatchNormalization())\n",
    "\n",
    "clf.add(Conv2D(n_filters=32, filter_shape=(3,3), stride=1, padding='same'))\n",
    "clf.add(Activation('myactivation'))\n",
    "clf.add(Dropout(0.25))\n",
    "clf.add(BatchNormalization())\n",
    "\n",
    "clf.add(Flatten())\n",
    "\n",
    "clf.add(Dense(16))\n",
    "clf.add(Activation('myactivation'))\n",
    "clf.add(Dropout(0.4))\n",
    "clf.add(BatchNormalization())\n",
    "\n",
    "clf.add(Dense(n_output))\n",
    "clf.add(Activation('myactivation'))\n",
    "\n",
    "print ()\n",
    "clf.summary(name=\"Conv2D\")"
   ]
  },
  {
   "cell_type": "markdown",
   "metadata": {},
   "source": [
    "### Train Con2D simple"
   ]
  },
  {
   "cell_type": "code",
   "execution_count": 28,
   "metadata": {},
   "outputs": [],
   "source": [
    "num_epochs = 40\n",
    "batch_size = 32"
   ]
  },
  {
   "cell_type": "code",
   "execution_count": null,
   "metadata": {},
   "outputs": [
    {
     "name": "stderr",
     "output_type": "stream",
     "text": [
      "Training:   0% [                                               ] ETA:  --:--:--\r"
     ]
    },
    {
     "name": "stdout",
     "output_type": "stream",
     "text": [
      "[INFO] Batch size :  32\n",
      "[INFO] Training epochs number :  40\n"
     ]
    },
    {
     "name": "stderr",
     "output_type": "stream",
     "text": [
      "C:/Users/admin/Desktop/IP Paris/MICAS/Cours/910/913 - Deep Learning/Project\\networks\\activation_functions.py:82: RuntimeWarning: overflow encountered in exp\n",
      "  return x*np.exp(2*dz*abs2)\n",
      "C:/Users/admin/Desktop/IP Paris/MICAS/Cours/910/913 - Deep Learning/Project\\networks\\activation_functions.py:82: RuntimeWarning: overflow encountered in multiply\n",
      "  return x*np.exp(2*dz*abs2)\n",
      "C:/Users/admin/Desktop/IP Paris/MICAS/Cours/910/913 - Deep Learning/Project\\networks\\loss_functions.py:24: RuntimeWarning: overflow encountered in power\n",
      "  return 0.5 * np.power((y - y_pred), 2)\n",
      "Training:   2% [-                                               ] ETA:  0:33:32\r"
     ]
    },
    {
     "name": "stdout",
     "output_type": "stream",
     "text": [
      "[INFO] Training loss on epoch  1  :  0.44021\n",
      "[INFO] Validation loss on epoch  1  :  inf\n",
      "-------------------------------------------------------------------------------\n"
     ]
    },
    {
     "name": "stderr",
     "output_type": "stream",
     "text": [
      "Training:   5% [--                                              ] ETA:  0:31:30\r"
     ]
    },
    {
     "name": "stdout",
     "output_type": "stream",
     "text": [
      "[INFO] Training loss on epoch  2  :  0.39179\n",
      "[INFO] Validation loss on epoch  2  :  inf\n",
      "-------------------------------------------------------------------------------\n"
     ]
    }
   ],
   "source": [
    "print(\"[INFO] Batch size : \", batch_size)\n",
    "print(\"[INFO] Training epochs number : \", num_epochs)\n",
    "train_err, val_err = clf.fit(X_train, y_train, num_epochs, batch_size=batch_size)"
   ]
  },
  {
   "cell_type": "markdown",
   "metadata": {},
   "source": [
    "### Evaluation"
   ]
  },
  {
   "cell_type": "code",
   "execution_count": null,
   "metadata": {},
   "outputs": [],
   "source": [
    "# Training and validation error plot\n",
    "n = len(train_err)\n",
    "training, = plt.plot(range(n), train_err, label=\"Training Error\")\n",
    "validation, = plt.plot(range(n), val_err, label=\"Validation Error\")\n",
    "plt.legend(handles=[training, validation])\n",
    "plt.title(\"Error Plot using \"+str(opti))\n",
    "plt.ylabel('Error')\n",
    "plt.xlabel('Iterations')\n",
    "plt.show()"
   ]
  },
  {
   "cell_type": "markdown",
   "metadata": {},
   "source": [
    "### Testing"
   ]
  },
  {
   "cell_type": "code",
   "execution_count": null,
   "metadata": {},
   "outputs": [],
   "source": [
    "x_tester = X_test.reshape(X_test.shape[0], -1, 2,32,32)\n",
    "x_test_original = X_test.reshape(X_test.shape[0], 2048,1)"
   ]
  },
  {
   "cell_type": "code",
   "execution_count": null,
   "metadata": {},
   "outputs": [],
   "source": [
    "index_pred = 54\n",
    "y_pred = clf.predict(x_tester[index_pred])\n",
    "print(y_pred)\n",
    "plt.title(\"Predicted Signal\")\n",
    "plt.plot(np.squeeze(np.abs(y_pred)))\n",
    "plt.show()"
   ]
  },
  {
   "cell_type": "code",
   "execution_count": null,
   "metadata": {},
   "outputs": [],
   "source": []
  },
  {
   "cell_type": "markdown",
   "metadata": {},
   "source": [
    "### Train Con2D simple"
   ]
  },
  {
   "cell_type": "code",
   "execution_count": 27,
   "metadata": {},
   "outputs": [],
   "source": [
    "num_epochs = 10\n",
    "batch_size = 32"
   ]
  },
  {
   "cell_type": "code",
   "execution_count": 28,
   "metadata": {},
   "outputs": [
    {
     "name": "stderr",
     "output_type": "stream",
     "text": [
      "Training:   0% [                                               ] ETA:  --:--:--\r"
     ]
    },
    {
     "name": "stdout",
     "output_type": "stream",
     "text": [
      "[INFO] Batch size :  32\n",
      "[INFO] Training epochs number :  10\n"
     ]
    },
    {
     "name": "stderr",
     "output_type": "stream",
     "text": [
      "Training:  10% [----                                            ] ETA:  0:08:01\r"
     ]
    },
    {
     "name": "stdout",
     "output_type": "stream",
     "text": [
      "[INFO] Training loss on epoch  1  :  0.46162\n",
      "[INFO] Validation loss on epoch  1  :  0.62825\n",
      "-------------------------------------------------------------------------------\n"
     ]
    },
    {
     "name": "stderr",
     "output_type": "stream",
     "text": [
      "Training:  20% [---------                                       ] ETA:  0:06:47\r"
     ]
    },
    {
     "name": "stdout",
     "output_type": "stream",
     "text": [
      "[INFO] Training loss on epoch  2  :  0.38110\n",
      "[INFO] Validation loss on epoch  2  :  0.36889\n",
      "-------------------------------------------------------------------------------\n"
     ]
    },
    {
     "name": "stderr",
     "output_type": "stream",
     "text": [
      "Training:  30% [--------------                                  ] ETA:  0:05:47\r"
     ]
    },
    {
     "name": "stdout",
     "output_type": "stream",
     "text": [
      "[INFO] Training loss on epoch  3  :  0.35000\n",
      "[INFO] Validation loss on epoch  3  :  0.32711\n",
      "-------------------------------------------------------------------------------\n"
     ]
    },
    {
     "name": "stderr",
     "output_type": "stream",
     "text": [
      "Training:  40% [-------------------                             ] ETA:  0:04:53\r"
     ]
    },
    {
     "name": "stdout",
     "output_type": "stream",
     "text": [
      "[INFO] Training loss on epoch  4  :  0.33816\n",
      "[INFO] Validation loss on epoch  4  :  0.31680\n",
      "-------------------------------------------------------------------------------\n"
     ]
    },
    {
     "name": "stderr",
     "output_type": "stream",
     "text": [
      "Training:  50% [------------------------                        ] ETA:  0:04:00\r"
     ]
    },
    {
     "name": "stdout",
     "output_type": "stream",
     "text": [
      "[INFO] Training loss on epoch  5  :  0.33085\n",
      "[INFO] Validation loss on epoch  5  :  0.31323\n",
      "-------------------------------------------------------------------------------\n"
     ]
    },
    {
     "name": "stderr",
     "output_type": "stream",
     "text": [
      "Training:  60% [----------------------------                    ] ETA:  0:03:15\r"
     ]
    },
    {
     "name": "stdout",
     "output_type": "stream",
     "text": [
      "[INFO] Training loss on epoch  6  :  0.32529\n",
      "[INFO] Validation loss on epoch  6  :  0.31138\n",
      "-------------------------------------------------------------------------------\n"
     ]
    },
    {
     "name": "stderr",
     "output_type": "stream",
     "text": [
      "Training:  70% [---------------------------------               ] ETA:  0:02:28\r"
     ]
    },
    {
     "name": "stdout",
     "output_type": "stream",
     "text": [
      "[INFO] Training loss on epoch  7  :  0.32103\n",
      "[INFO] Validation loss on epoch  7  :  0.31039\n",
      "-------------------------------------------------------------------------------\n"
     ]
    },
    {
     "name": "stderr",
     "output_type": "stream",
     "text": [
      "Training:  80% [--------------------------------------          ] ETA:  0:01:37\r"
     ]
    },
    {
     "name": "stdout",
     "output_type": "stream",
     "text": [
      "[INFO] Training loss on epoch  8  :  0.31825\n",
      "[INFO] Validation loss on epoch  8  :  0.30951\n",
      "-------------------------------------------------------------------------------\n"
     ]
    },
    {
     "name": "stderr",
     "output_type": "stream",
     "text": [
      "Training:  90% [-------------------------------------------     ] ETA:  0:00:48\r"
     ]
    },
    {
     "name": "stdout",
     "output_type": "stream",
     "text": [
      "[INFO] Training loss on epoch  9  :  0.31598\n",
      "[INFO] Validation loss on epoch  9  :  0.30862\n",
      "-------------------------------------------------------------------------------\n"
     ]
    },
    {
     "name": "stderr",
     "output_type": "stream",
     "text": [
      "Training: 100% [------------------------------------------------] Time: 0:07:56\r"
     ]
    },
    {
     "name": "stdout",
     "output_type": "stream",
     "text": [
      "[INFO] Training loss on epoch  10  :  0.31362\n",
      "[INFO] Validation loss on epoch  10  :  0.30755\n",
      "-------------------------------------------------------------------------------\n"
     ]
    },
    {
     "name": "stderr",
     "output_type": "stream",
     "text": [
      "\n"
     ]
    }
   ],
   "source": [
    "print(\"[INFO] Batch size : \", batch_size)\n",
    "print(\"[INFO] Training epochs number : \", num_epochs)\n",
    "train_err, val_err = clf.fit(X_train, y_train, num_epochs, batch_size=batch_size)"
   ]
  },
  {
   "cell_type": "markdown",
   "metadata": {},
   "source": [
    "### Evaluation"
   ]
  },
  {
   "cell_type": "code",
   "execution_count": 31,
   "metadata": {},
   "outputs": [
    {
     "data": {
      "image/png": "[encoded data removed]",
      "text/plain": [
       "<Figure size 432x288 with 1 Axes>"
      ]
     },
     "metadata": {
      "needs_background": "light"
     },
     "output_type": "display_data"
    }
   ],
   "source": [
    "# Training and validation error plot\n",
    "n = len(train_err)\n",
    "training, = plt.plot(range(n), train_err, label=\"Training Error\")\n",
    "validation, = plt.plot(range(n), val_err, label=\"Validation Error\")\n",
    "plt.legend(handles=[training, validation])\n",
    "plt.title(\"Error Plot using \"+str(opti))\n",
    "plt.ylabel('Error')\n",
    "plt.xlabel('Iterations')\n",
    "plt.show()"
   ]
  },
  {
   "cell_type": "code",
   "execution_count": 32,
   "metadata": {},
   "outputs": [
    {
     "name": "stdout",
     "output_type": "stream",
     "text": [
      "Test loss: 0\n"
     ]
    }
   ],
   "source": [
    "_, loss = clf.test_on_batch(X_test, y_test)\n",
    "print (\"Test loss:\", loss)"
   ]
  },
  {
   "cell_type": "markdown",
   "metadata": {},
   "source": [
    "### Testing the Conv2D"
   ]
  },
  {
   "cell_type": "code",
   "execution_count": 34,
   "metadata": {},
   "outputs": [],
   "source": [
    "x_tester = X_test.reshape(X_test.shape[0], -1, 2,32,32)\n",
    "x_test_original = X_test.reshape(X_test.shape[0], 2048,1)"
   ]
  },
  {
   "cell_type": "code",
   "execution_count": 35,
   "metadata": {},
   "outputs": [],
   "source": [
    "index_pred = 54"
   ]
  },
  {
   "cell_type": "code",
   "execution_count": 36,
   "metadata": {},
   "outputs": [
    {
     "name": "stdout",
     "output_type": "stream",
     "text": [
      "[[0.04409289 0.00688274 0.04464493 ... 0.06249855 0.03349153 0.05991256]]\n"
     ]
    },
    {
     "data": {
      "image/png": "[encoded data removed]",
      "text/plain": [
       "<Figure size 432x288 with 1 Axes>"
      ]
     },
     "metadata": {
      "needs_background": "light"
     },
     "output_type": "display_data"
    }
   ],
   "source": [
    "y_pred = clf.predict(x_tester[index_pred])\n",
    "print(y_pred)\n",
    "plt.title(\"Predicted Signal\")\n",
    "plt.plot(np.squeeze(np.abs(y_pred)))\n",
    "plt.show()"
   ]
  },
  {
   "cell_type": "code",
   "execution_count": 37,
   "metadata": {},
   "outputs": [
    {
     "data": {
      "image/png": "[encoded data removed]",
      "text/plain": [
       "<Figure size 432x288 with 1 Axes>"
      ]
     },
     "metadata": {
      "needs_background": "light"
     },
     "output_type": "display_data"
    }
   ],
   "source": [
    "plt.title(\"Predicted Signal vs Original\")\n",
    "plt.plot(np.squeeze(np.abs(y_pred)), label=\"prediction\")\n",
    "plt.plot(np.squeeze(np.abs(y_test[index_pred])), label=\"original\")\n",
    "plt.legend()\n",
    "plt.show()"
   ]
  },
  {
   "cell_type": "code",
   "execution_count": 38,
   "metadata": {},
   "outputs": [
    {
     "name": "stdout",
     "output_type": "stream",
     "text": [
      "max val : 0.9467448413274234\n",
      "shape  : (1, 2048)\n"
     ]
    }
   ],
   "source": [
    "print (\"max val :\", np.max(y_pred))\n",
    "print (\"shape  :\", y_pred.shape)"
   ]
  },
  {
   "cell_type": "markdown",
   "metadata": {},
   "source": [
    "## More deep Conv2D"
   ]
  },
  {
   "cell_type": "code",
   "execution_count": 50,
   "metadata": {},
   "outputs": [],
   "source": [
    "optimizer = Adam()\n",
    "opti = 'Adam'\n",
    "n_features = 2048\n",
    "n_output = 2048\n",
    "model_deep = NeuralNetwork(optimizer=optimizer,\n",
    "                        loss=SquareLoss,\n",
    "                        validation_data=(X_test, y_test))"
   ]
  },
  {
   "cell_type": "code",
   "execution_count": 51,
   "metadata": {},
   "outputs": [
    {
     "name": "stdout",
     "output_type": "stream",
     "text": [
      "\n",
      "+-------------+\n",
      "| Conv2D-deep |\n",
      "+-------------+\n",
      "Input Shape: (2, 32, 32)\n",
      "+--------------------+------------+---------------+\n",
      "| Layer Type         | Parameters | Output Shape  |\n",
      "+--------------------+------------+---------------+\n",
      "| Conv2D             | 2432       | (128, 32, 32) |\n",
      "| Activation (SELU)  | 0          | (128, 32, 32) |\n",
      "| Dropout            | 0          | (128, 32, 32) |\n",
      "| BatchNormalization | 262144     | (128, 32, 32) |\n",
      "| Conv2D             | 73792      | (64, 32, 32)  |\n",
      "| Activation (SELU)  | 0          | (64, 32, 32)  |\n",
      "| Dropout            | 0          | (64, 32, 32)  |\n",
      "| BatchNormalization | 131072     | (64, 32, 32)  |\n",
      "| Flatten            | 0          | (65536,)      |\n",
      "| Dense              | 2097184    | (32,)         |\n",
      "| Activation (SELU)  | 0          | (32,)         |\n",
      "| Dropout            | 0          | (32,)         |\n",
      "| BatchNormalization | 64         | (32,)         |\n",
      "| Dense              | 528        | (16,)         |\n",
      "| Activation (SELU)  | 0          | (16,)         |\n",
      "| Dropout            | 0          | (16,)         |\n",
      "| BatchNormalization | 32         | (16,)         |\n",
      "| Dense              | 544        | (32,)         |\n",
      "| Activation (SELU)  | 0          | (32,)         |\n",
      "| Dropout            | 0          | (32,)         |\n",
      "| BatchNormalization | 64         | (32,)         |\n",
      "| Dense              | 67584      | (2048,)       |\n",
      "| Activation (SELU)  | 0          | (2048,)       |\n",
      "+--------------------+------------+---------------+\n",
      "Total Parameters: 2635440\n",
      "\n"
     ]
    }
   ],
   "source": [
    "model_deep.add(Conv2D(n_filters=128, filter_shape=(3,3), stride=1, input_shape=(2,32,32), padding='same'))\n",
    "model_deep.add(Activation('selu'))\n",
    "model_deep.add(Dropout(0.25))\n",
    "model_deep.add(BatchNormalization())\n",
    "\n",
    "model_deep.add(Conv2D(n_filters=64, filter_shape=(3,3), stride=1, padding='same'))\n",
    "model_deep.add(Activation('selu'))\n",
    "model_deep.add(Dropout(0.25))\n",
    "model_deep.add(BatchNormalization())\n",
    "\n",
    "model_deep.add(Flatten())\n",
    "\n",
    "model_deep.add(Dense(32))\n",
    "model_deep.add(Activation('selu'))\n",
    "model_deep.add(Dropout(0.4))\n",
    "model_deep.add(BatchNormalization())\n",
    "\n",
    "model_deep.add(Dense(16))\n",
    "model_deep.add(Activation('selu'))\n",
    "model_deep.add(Dropout(0.4))\n",
    "model_deep.add(BatchNormalization())\n",
    "\n",
    "model_deep.add(Dense(32))\n",
    "model_deep.add(Activation('selu'))\n",
    "model_deep.add(Dropout(0.4))\n",
    "model_deep.add(BatchNormalization())\n",
    "\n",
    "model_deep.add(Dense(n_output))\n",
    "model_deep.add(Activation('selu'))\n",
    "print ()\n",
    "model_deep.summary(name=\"Conv2D-deep\")"
   ]
  },
  {
   "cell_type": "markdown",
   "metadata": {},
   "source": [
    "### Training the model"
   ]
  },
  {
   "cell_type": "code",
   "execution_count": 52,
   "metadata": {},
   "outputs": [],
   "source": [
    "num_epochs = 5\n",
    "batch_size = 4"
   ]
  },
  {
   "cell_type": "code",
   "execution_count": null,
   "metadata": {},
   "outputs": [
    {
     "name": "stderr",
     "output_type": "stream",
     "text": [
      "Training:   0% [                                               ] ETA:  --:--:--\r"
     ]
    },
    {
     "name": "stdout",
     "output_type": "stream",
     "text": [
      "[INFO] Batch size :  4\n",
      "[INFO] Training epochs number :  5\n"
     ]
    }
   ],
   "source": [
    "print(\"[INFO] Batch size : \", batch_size)\n",
    "print(\"[INFO] Training epochs number : \", num_epochs)\n",
    "train_err, val_err = model_deep.fit(X_train, y_train, num_epochs, batch_size=batch_size)"
   ]
  }
 ],
 "metadata": {
  "kernelspec": {
   "display_name": "Python 3.6.8 64-bit",
   "language": "python",
   "name": "python36864bit5d1453442e8543df8126f0c5c89733bf"
  },
  "language_info": {
   "codemirror_mode": {
    "name": "ipython",
    "version": 3
   },
   "file_extension": ".py",
   "mimetype": "text/x-python",
   "name": "python",
   "nbconvert_exporter": "python",
   "pygments_lexer": "ipython3",
   "version": "3.6.8"
  }
 },
 "nbformat": 4,
 "nbformat_minor": 2
}
