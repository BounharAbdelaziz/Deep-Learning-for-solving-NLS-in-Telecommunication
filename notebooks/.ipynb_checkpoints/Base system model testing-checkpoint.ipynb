{
 "cells": [
  {
   "cell_type": "code",
   "execution_count": 1,
   "metadata": {},
   "outputs": [
    {
     "name": "stderr",
     "output_type": "stream",
     "text": [
      "In C:\\Python36\\lib\\site-packages\\matplotlib\\mpl-data\\stylelib\\_classic_test.mplstyle: \n",
      "The text.latex.preview rcparam was deprecated in Matplotlib 3.3 and will be removed two minor releases later.\n",
      "In C:\\Python36\\lib\\site-packages\\matplotlib\\mpl-data\\stylelib\\_classic_test.mplstyle: \n",
      "The mathtext.fallback_to_cm rcparam was deprecated in Matplotlib 3.3 and will be removed two minor releases later.\n",
      "In C:\\Python36\\lib\\site-packages\\matplotlib\\mpl-data\\stylelib\\_classic_test.mplstyle: Support for setting the 'mathtext.fallback_to_cm' rcParam is deprecated since 3.3 and will be removed two minor releases later; use 'mathtext.fallback : 'cm' instead.\n",
      "In C:\\Python36\\lib\\site-packages\\matplotlib\\mpl-data\\stylelib\\_classic_test.mplstyle: \n",
      "The validate_bool_maybe_none function was deprecated in Matplotlib 3.3 and will be removed two minor releases later.\n",
      "In C:\\Python36\\lib\\site-packages\\matplotlib\\mpl-data\\stylelib\\_classic_test.mplstyle: \n",
      "The savefig.jpeg_quality rcparam was deprecated in Matplotlib 3.3 and will be removed two minor releases later.\n",
      "In C:\\Python36\\lib\\site-packages\\matplotlib\\mpl-data\\stylelib\\_classic_test.mplstyle: \n",
      "The keymap.all_axes rcparam was deprecated in Matplotlib 3.3 and will be removed two minor releases later.\n",
      "In C:\\Python36\\lib\\site-packages\\matplotlib\\mpl-data\\stylelib\\_classic_test.mplstyle: \n",
      "The animation.avconv_path rcparam was deprecated in Matplotlib 3.3 and will be removed two minor releases later.\n",
      "In C:\\Python36\\lib\\site-packages\\matplotlib\\mpl-data\\stylelib\\_classic_test.mplstyle: \n",
      "The animation.avconv_args rcparam was deprecated in Matplotlib 3.3 and will be removed two minor releases later.\n"
     ]
    }
   ],
   "source": [
    "from __future__ import print_function\n",
    "from sklearn import datasets\n",
    "import matplotlib.pyplot as plt\n",
    "import numpy as np\n",
    "\n",
    "import pandas as pd\n",
    "from numpy import save\n",
    "import matplotlib.pyplot as plt\n",
    "from tqdm import tqdm\n",
    "\n",
    "from sklearn.model_selection import train_test_split\n",
    "from sklearn import preprocessing\n",
    "from sklearn.utils import shuffle\n",
    "from sklearn.preprocessing import MinMaxScaler\n",
    "\n",
    "import time\n"
   ]
  },
  {
   "cell_type": "code",
   "execution_count": 2,
   "metadata": {},
   "outputs": [
    {
     "name": "stderr",
     "output_type": "stream",
     "text": [
      "Using TensorFlow backend.\n"
     ]
    }
   ],
   "source": [
    "import sys\n",
    "\n",
    "sys.path.append(\"C:/Users/admin/Desktop/IP Paris/MICAS/Cours/910/913 - Deep Learning/Project/\")\n",
    "\n",
    "# Import helper functions\n",
    "from networks import NeuralNetwork\n",
    "from optimization.optimizers import StochasticGradientDescent, Adam, RMSprop, Adagrad, Adadelta\n",
    "from networks.loss_functions import CrossEntropy, SquareLoss\n",
    "from utils.misc import bar_widgets\n",
    "from networks.layers import Dense, Dropout, Activation, BatchNormalization\n",
    "\n",
    "from helpers.helper import *\n",
    "from helpers.processing import *\n",
    "\n",
    "from Channel.parameters import *\n",
    "from Channel.transmitor import *\n",
    "from Channel.modulator import *\n",
    "from Channel.channel import *\n",
    "from Channel.equalizer import *\n",
    "from Channel.demodulator import *\n",
    "from Channel.detector import *\n",
    "from nnet_Generator.NNetGenerator import *"
   ]
  },
  {
   "cell_type": "code",
   "execution_count": 3,
   "metadata": {},
   "outputs": [],
   "source": [
    "# For styling the figures.\n",
    "\n",
    "from IPython.core.display import HTML\n",
    "HTML(\"\"\"\n",
    "<style>\n",
    ".output_png {\n",
    "    display: table-cell;\n",
    "    text-align: center;\n",
    "    vertical-align: middle;\n",
    "}\n",
    "</style>\n",
    "\"\"\")\n",
    "\n",
    "plt.rcParams[\"figure.figsize\"] = (15,7)"
   ]
  },
  {
   "cell_type": "markdown",
   "metadata": {},
   "source": [
    "# 2.2 Channel model\n",
    "### Signal and system parameters\n",
    "\n",
    "* parameters are defined in the Parameters class"
   ]
  },
  {
   "cell_type": "code",
   "execution_count": 4,
   "metadata": {},
   "outputs": [],
   "source": [
    "# bandwidth\n",
    "bandwidth = 1\n",
    "# Number of symbols\n",
    "nsymbols = 1\n",
    "# Size of the constellation\n",
    "M = 16\n",
    "# Sample size\n",
    "Nt = 2**10\n",
    "# Number of Layers of the Generative network\n",
    "nLayers = 500\n",
    "# Number of bits\n",
    "nb = int(nsymbols * np.log2(M))\n",
    "# Time mesh\n",
    "timeMesh = int( (nb/bandwidth)+ (10*2/ nb) )"
   ]
  },
  {
   "cell_type": "code",
   "execution_count": 5,
   "metadata": {},
   "outputs": [],
   "source": [
    "# Initialize parameters\n",
    "parameters = Parameters(bandwidth, nsymbols, M, Nt, nLayers, timeMesh)\n",
    "#params = Parameters(bandwidth, nsymbols, M, Nt, nLayers, timeMesh)\n",
    "# Initialize the Transmitor\n",
    "transmitor = Transmitor()\n",
    "# Initialize the Modulator\n",
    "modulator = Modulator()\n",
    "# Initialize the Channel\n",
    "channel = Channel()\n",
    "# Initialize the Equalizer\n",
    "equalizer = Equalizer()\n",
    "# Initialize the NNetGenerator\n",
    "nnetGen = NNetGenerator(parameters)\n",
    "# Initialize the Detector\n",
    "detector = Detector(transmitor)\n",
    "# Initialize the Demodulator\n",
    "demodulator = Demodulator()"
   ]
  },
  {
   "cell_type": "markdown",
   "metadata": {},
   "source": [
    "### Question 4 : Consider the peak power P=6 mW. Obtain the normalize peak power and plot the constellation C"
   ]
  },
  {
   "cell_type": "code",
   "execution_count": 6,
   "metadata": {},
   "outputs": [
    {
     "data": {
      "text/plain": [
       "0.06"
      ]
     },
     "execution_count": 6,
     "metadata": {},
     "output_type": "execute_result"
    }
   ],
   "source": [
    "parameters.power"
   ]
  },
  {
   "cell_type": "code",
   "execution_count": 7,
   "metadata": {},
   "outputs": [
    {
     "data": {
      "text/plain": [
       "16"
      ]
     },
     "execution_count": 7,
     "metadata": {},
     "output_type": "execute_result"
    }
   ],
   "source": [
    "parameters.M"
   ]
  },
  {
   "cell_type": "code",
   "execution_count": 8,
   "metadata": {},
   "outputs": [
    {
     "data": {
      "image/png": "[encoded data removed]",
      "text/plain": [
       "<Figure size 720x720 with 1 Axes>"
      ]
     },
     "metadata": {
      "needs_background": "light"
     },
     "output_type": "display_data"
    }
   ],
   "source": [
    "# Constellation\n",
    "constellation, binary_str, binary_arr = transmitor.build_constellations(parameters.M)\n",
    "transmitor.plot_constellation(parameters.M, constellation, binary_str)"
   ]
  },
  {
   "cell_type": "code",
   "execution_count": 9,
   "metadata": {},
   "outputs": [
    {
     "name": "stdout",
     "output_type": "stream",
     "text": [
      "[-2.-2.j -2.-1.j -2.+2.j -2.+1.j -1.-2.j -1.-1.j -1.+2.j -1.+1.j  2.-2.j\n",
      "  2.-1.j  2.+2.j  2.+1.j  1.-2.j  1.-1.j  1.+2.j  1.+1.j]\n",
      "['0000', '0001', '0010', '0011', '0100', '0101', '0110', '0111', '1000', '1001', '1010', '1011', '1100', '1101', '1110', '1111']\n",
      "[[0 0 0 0]\n",
      " [0 0 0 1]\n",
      " [0 0 1 0]\n",
      " [0 0 1 1]\n",
      " [0 1 0 0]\n",
      " [0 1 0 1]\n",
      " [0 1 1 0]\n",
      " [0 1 1 1]\n",
      " [1 0 0 0]\n",
      " [1 0 0 1]\n",
      " [1 0 1 0]\n",
      " [1 0 1 1]\n",
      " [1 1 0 0]\n",
      " [1 1 0 1]\n",
      " [1 1 1 0]\n",
      " [1 1 1 1]]\n"
     ]
    }
   ],
   "source": [
    "print(constellation)\n",
    "print(binary_str)\n",
    "print(binary_arr)"
   ]
  },
  {
   "cell_type": "markdown",
   "metadata": {},
   "source": [
    "## 2.2.1 Transmitter"
   ]
  },
  {
   "cell_type": "markdown",
   "metadata": {},
   "source": [
    "### Question 5. Binary source"
   ]
  },
  {
   "cell_type": "code",
   "execution_count": 20,
   "metadata": {},
   "outputs": [
    {
     "name": "stdout",
     "output_type": "stream",
     "text": [
      "Probability of 0 :  0.5\n",
      "Sample size :  1024\n",
      "Number of bits :  4\n"
     ]
    }
   ],
   "source": [
    "print(\"Probability of 0 : \", parameters.p)\n",
    "print(\"Sample size : \", parameters.N)\n",
    "print(\"Number of bits : \", parameters.nb)"
   ]
  },
  {
   "cell_type": "code",
   "execution_count": 30,
   "metadata": {},
   "outputs": [
    {
     "name": "stdout",
     "output_type": "stream",
     "text": [
      "Generated source : \n",
      " [1 1 1 1]\n",
      "len(source) : \n",
      " 4\n"
     ]
    }
   ],
   "source": [
    "#source\n",
    "b = transmitor.source(parameters.nb , parameters.p)\n",
    "print(\"Generated source : \\n\", b)\n",
    "print(\"len(source) : \\n\", len(b))"
   ]
  },
  {
   "cell_type": "markdown",
   "metadata": {},
   "source": [
    "## Modulation\n",
    "### Question 6. Bits-to-symbols mapping"
   ]
  },
  {
   "cell_type": "code",
   "execution_count": 31,
   "metadata": {},
   "outputs": [
    {
     "name": "stdout",
     "output_type": "stream",
     "text": [
      "symbols : \n",
      " [1.+1.j]\n",
      "len(symbols) :  1\n"
     ]
    }
   ],
   "source": [
    "# symbol sequence\n",
    "s = transmitor.bit_to_symb(b, parameters.M)\n",
    "print(\"symbols : \\n\", s)\n",
    "print(\"len(symbols) : \", len(s))"
   ]
  },
  {
   "cell_type": "markdown",
   "metadata": {},
   "source": [
    "The number of symbols matches the equation : $$ N/\\log_{2}(M) = 4/\\log_{2}(16) = 256 $$\n",
    "Where N is the number of bits\n",
    "\n",
    "### Question 7. Modulation function"
   ]
  },
  {
   "cell_type": "code",
   "execution_count": 32,
   "metadata": {},
   "outputs": [],
   "source": [
    "q0t = modulator.mod(parameters.t, s, parameters.B)"
   ]
  },
  {
   "cell_type": "markdown",
   "metadata": {},
   "source": [
    "### Plots in time domain"
   ]
  },
  {
   "cell_type": "code",
   "execution_count": 33,
   "metadata": {},
   "outputs": [
    {
     "data": {
      "text/plain": [
       "Text(0.5, 1.0, 'Modulated signal using sinc functions. Number of bits 4')"
      ]
     },
     "execution_count": 33,
     "metadata": {},
     "output_type": "execute_result"
    },
    {
     "data": {
      "image/png": "[encoded data removed]",
      "text/plain": [
       "<Figure size 1080x504 with 1 Axes>"
      ]
     },
     "metadata": {
      "needs_background": "light"
     },
     "output_type": "display_data"
    }
   ],
   "source": [
    "plt.plot(parameters.t, np.squeeze(q0t.real))\n",
    "plt.xlabel('Time')\n",
    "plt.ylabel('Re(q(t, 0))')\n",
    "plt.title(\"Modulated signal using sinc functions. Number of bits \"+str(parameters.nb))"
   ]
  },
  {
   "cell_type": "code",
   "execution_count": 35,
   "metadata": {},
   "outputs": [
    {
     "data": {
      "text/plain": [
       "Text(0.5, 1.0, 'Modulated signal using sinc functions. Number of bits 4')"
      ]
     },
     "execution_count": 35,
     "metadata": {},
     "output_type": "execute_result"
    },
    {
     "data": {
      "image/png": "[encoded data removed]",
      "text/plain": [
       "<Figure size 1080x504 with 1 Axes>"
      ]
     },
     "metadata": {
      "needs_background": "light"
     },
     "output_type": "display_data"
    }
   ],
   "source": [
    "plt.plot(parameters.t, np.abs(np.squeeze(q0t.real)))\n",
    "plt.xlabel('Time')\n",
    "plt.ylabel('|Re(q(t, 0))]')\n",
    "plt.title(\"Modulated signal using sinc functions. Number of bits \"+str(parameters.nb))"
   ]
  },
  {
   "cell_type": "markdown",
   "metadata": {},
   "source": [
    "### Plots in Frequency domain"
   ]
  },
  {
   "cell_type": "code",
   "execution_count": 36,
   "metadata": {},
   "outputs": [],
   "source": [
    "q0f = np.fft.fft(q0t)\n",
    "f = np.fft.fftfreq(parameters.N, parameters.dt)"
   ]
  },
  {
   "cell_type": "code",
   "execution_count": 38,
   "metadata": {},
   "outputs": [
    {
     "data": {
      "text/plain": [
       "Text(0.5, 1.0, 'Modulated signal using sinc functions. Number of bits 4')"
      ]
     },
     "execution_count": 38,
     "metadata": {},
     "output_type": "execute_result"
    },
    {
     "data": {
      "image/png": "[encoded data removed]",
      "text/plain": [
       "<Figure size 1080x504 with 1 Axes>"
      ]
     },
     "metadata": {
      "needs_background": "light"
     },
     "output_type": "display_data"
    }
   ],
   "source": [
    "plt.plot(f, np.abs(np.squeeze(q0f.real)))\n",
    "plt.xlabel('Frequency')\n",
    "plt.ylabel('|Re(q(f, 0))]')\n",
    "plt.title(\"Modulated signal using sinc functions. Number of bits \"+str(parameters.nb))"
   ]
  },
  {
   "cell_type": "markdown",
   "metadata": {},
   "source": [
    "## 2.2.2 Channel model\n",
    "\n",
    "### Question 12. channel(t, q0t, z, sigma2, B) that outputs a realization of the stochastic process q(t,z) given q(t,0)."
   ]
  },
  {
   "cell_type": "code",
   "execution_count": 39,
   "metadata": {},
   "outputs": [],
   "source": [
    "qzt, qzf = channel.channel(parameters.t, q0t, parameters.z, parameters.sigma2, parameters.B)"
   ]
  },
  {
   "cell_type": "code",
   "execution_count": 41,
   "metadata": {},
   "outputs": [
    {
     "data": {
      "text/plain": [
       "Text(0.5, 1.0, 'Modulated signal using sinc functions. Number of bits 4')"
      ]
     },
     "execution_count": 41,
     "metadata": {},
     "output_type": "execute_result"
    },
    {
     "data": {
      "image/png": "[encoded data removed]",
      "text/plain": [
       "<Figure size 1080x504 with 1 Axes>"
      ]
     },
     "metadata": {
      "needs_background": "light"
     },
     "output_type": "display_data"
    }
   ],
   "source": [
    "plt.plot(parameters.t, np.squeeze(qzt.real))\n",
    "plt.xlabel('Time')\n",
    "plt.ylabel('Re(q(z, t))')\n",
    "plt.title(\"Modulated signal using sinc functions. Number of bits \"+str(parameters.nb))"
   ]
  },
  {
   "cell_type": "code",
   "execution_count": 42,
   "metadata": {},
   "outputs": [
    {
     "data": {
      "text/plain": [
       "Text(0.5, 1.0, 'Modulated signal using sinc functions. Number of bits 4')"
      ]
     },
     "execution_count": 42,
     "metadata": {},
     "output_type": "execute_result"
    },
    {
     "data": {
      "image/png": "[encoded data removed]",
      "text/plain": [
       "<Figure size 1080x504 with 1 Axes>"
      ]
     },
     "metadata": {
      "needs_background": "light"
     },
     "output_type": "display_data"
    }
   ],
   "source": [
    "plt.plot(f, np.abs(np.squeeze(qzf.real)))\n",
    "plt.xlabel('Frequency')\n",
    "plt.ylabel('|Re(q(z, f))]')\n",
    "plt.title(\"Modulated signal using sinc functions. Number of bits \"+str(parameters.nb))"
   ]
  },
  {
   "cell_type": "markdown",
   "metadata": {},
   "source": [
    "# 2.2.3 Receiver\n",
    "\n",
    "## Equalization\n",
    "\n",
    "\n",
    "**Main**\n",
    "* We test the equalization part with a Gaussian input signal.\n"
   ]
  },
  {
   "cell_type": "code",
   "execution_count": 43,
   "metadata": {},
   "outputs": [
    {
     "data": {
      "text/plain": [
       "1"
      ]
     },
     "execution_count": 43,
     "metadata": {},
     "output_type": "execute_result"
    }
   ],
   "source": [
    "parameters.A"
   ]
  },
  {
   "cell_type": "code",
   "execution_count": 44,
   "metadata": {},
   "outputs": [],
   "source": [
    "q0t = parameters.A*np.exp(-parameters.t**2)\n",
    "q0f = np.fft.fft(q0t)"
   ]
  },
  {
   "cell_type": "code",
   "execution_count": 45,
   "metadata": {},
   "outputs": [
    {
     "data": {
      "text/plain": [
       "Text(0.5, 1.0, 'Gaussian input signal')"
      ]
     },
     "execution_count": 45,
     "metadata": {},
     "output_type": "execute_result"
    },
    {
     "data": {
      "image/png": "[encoded data removed]",
      "text/plain": [
       "<Figure size 1080x504 with 1 Axes>"
      ]
     },
     "metadata": {
      "needs_background": "light"
     },
     "output_type": "display_data"
    }
   ],
   "source": [
    "plt.plot(parameters.t, q0t.real)\n",
    "plt.xlabel('Time')\n",
    "plt.ylabel('Re(q(t, 0))')\n",
    "plt.title(\"Gaussian input signal\")"
   ]
  },
  {
   "cell_type": "code",
   "execution_count": 46,
   "metadata": {},
   "outputs": [
    {
     "data": {
      "text/plain": [
       "Text(0.5, 1.0, 'Gaussian input signal')"
      ]
     },
     "execution_count": 46,
     "metadata": {},
     "output_type": "execute_result"
    },
    {
     "data": {
      "image/png": "[encoded data removed]",
      "text/plain": [
       "<Figure size 1080x504 with 1 Axes>"
      ]
     },
     "metadata": {
      "needs_background": "light"
     },
     "output_type": "display_data"
    }
   ],
   "source": [
    "plt.plot(f, np.abs(q0f.real))\n",
    "plt.xlabel('Frequency')\n",
    "plt.ylabel('|Re(q(f, 0))]')\n",
    "plt.title(\"Gaussian input signal\")"
   ]
  },
  {
   "cell_type": "code",
   "execution_count": 47,
   "metadata": {},
   "outputs": [],
   "source": [
    "# propagation (with zero noise), output in t,f\n",
    "qzt, qzf = channel.channel(parameters.t, q0t, parameters.z, 0, 0) \n",
    "# equalized output\n",
    "qzte, qzfe = equalizer.equalize(parameters.t, qzt, parameters.z)"
   ]
  },
  {
   "cell_type": "code",
   "execution_count": 48,
   "metadata": {},
   "outputs": [
    {
     "data": {
      "text/plain": [
       "<matplotlib.legend.Legend at 0x1d433a8c128>"
      ]
     },
     "execution_count": 48,
     "metadata": {},
     "output_type": "execute_result"
    },
    {
     "data": {
      "image/png": "[encoded data removed]",
      "text/plain": [
       "<Figure size 1080x504 with 1 Axes>"
      ]
     },
     "metadata": {
      "needs_background": "light"
     },
     "output_type": "display_data"
    }
   ],
   "source": [
    "plt.plot(parameters.t, q0t.real, label=\"input signal\")\n",
    "plt.plot(parameters.t, qzte.real, label=\"equalized\")\n",
    "\n",
    "plt.xlabel('Time')\n",
    "plt.ylabel('Re(q(t, 0))')\n",
    "plt.title(\"Gaussian input signal\")\n",
    "plt.legend()"
   ]
  },
  {
   "cell_type": "markdown",
   "metadata": {},
   "source": [
    "**Comments**\n",
    "\n",
    "We can see that the equalization is very good, we are able to get back to the original signal. Let's verify this with the comparison function below."
   ]
  },
  {
   "cell_type": "markdown",
   "metadata": {},
   "source": [
    "### Comparison of Original and Equalized signals"
   ]
  },
  {
   "cell_type": "code",
   "execution_count": 49,
   "metadata": {},
   "outputs": [],
   "source": [
    "def compare(x, y):\n",
    "    \"\"\" This function compares the equalized signal with the input one \"\"\"\n",
    "\n",
    "    delta = np.absolute(x - y)\n",
    "    return np.max(delta) <= 1e-6"
   ]
  },
  {
   "cell_type": "code",
   "execution_count": 50,
   "metadata": {},
   "outputs": [
    {
     "data": {
      "text/plain": [
       "True"
      ]
     },
     "execution_count": 50,
     "metadata": {},
     "output_type": "execute_result"
    }
   ],
   "source": [
    "# we compare the original signal and the equalized one\n",
    "compare(q0t, qzte) "
   ]
  },
  {
   "cell_type": "markdown",
   "metadata": {},
   "source": [
    "## Demodulation, Detection and Demapping\n",
    "\n",
    "### Question 17. Checking the first the **end-to-end implementation when noise is zero**. In this case, we should obtain $ \\widehat{s} \\approx  s $ with high accuracy"
   ]
  },
  {
   "cell_type": "code",
   "execution_count": 51,
   "metadata": {},
   "outputs": [],
   "source": [
    "# bandwidth\n",
    "bandwidth = 1e2\n",
    "# Number of symbols\n",
    "nsymbols = 16\n",
    "# Size of the constellation\n",
    "M = 16\n",
    "# Sample size\n",
    "Nt = 10**4\n",
    "# Number of Layers of the Generative network\n",
    "nLayers = 500\n",
    "# Number of bits\n",
    "nb = int(nsymbols * np.log2(M))\n",
    "# Time mesh\n",
    "timeMesh = 50 #int( (nb/bandwidth)+ (10*2/ nb) )"
   ]
  },
  {
   "cell_type": "code",
   "execution_count": 52,
   "metadata": {},
   "outputs": [
    {
     "data": {
      "text/plain": [
       "50"
      ]
     },
     "execution_count": 52,
     "metadata": {},
     "output_type": "execute_result"
    }
   ],
   "source": [
    "timeMesh"
   ]
  },
  {
   "cell_type": "code",
   "execution_count": 53,
   "metadata": {},
   "outputs": [
    {
     "name": "stdout",
     "output_type": "stream",
     "text": [
      "Number of bits :  64\n"
     ]
    }
   ],
   "source": [
    "print(\"Number of bits : \", nb)"
   ]
  },
  {
   "cell_type": "code",
   "execution_count": 54,
   "metadata": {},
   "outputs": [],
   "source": [
    "# Initialize parameters\n",
    "parameters = Parameters(bandwidth, nsymbols, M, Nt, nLayers, timeMesh)\n",
    "# Initialize the Transmitor\n",
    "transmitor = Transmitor()\n",
    "# Initialize the Modulator\n",
    "modulator = Modulator()\n",
    "# Initialize the Channel\n",
    "channel = Channel()\n",
    "# Initialize the Equalizer\n",
    "equalizer = Equalizer()\n",
    "# Initialize the NNetGenerator\n",
    "nnetGen = NNetGenerator(parameters)\n",
    "# Initialize the Detector\n",
    "detector = Detector(transmitor)\n",
    "# Initialize the Demodulator\n",
    "demodulator = Demodulator()"
   ]
  },
  {
   "cell_type": "code",
   "execution_count": 117,
   "metadata": {},
   "outputs": [
    {
     "name": "stdout",
     "output_type": "stream",
     "text": [
      "q0t :  (1, 10000)\n",
      "qzt :  (1, 10000)\n",
      "qzte :  (1, 10000)\n",
      "comp :  True\n"
     ]
    }
   ],
   "source": [
    "#source\n",
    "b = transmitor.source(parameters.nb , parameters.p)\n",
    "\n",
    "# symbol sequence\n",
    "s = transmitor.bit_to_symb(b, parameters.M)\n",
    "\n",
    "# Modulation\n",
    "q0t = modulator.mod(parameters.t, s, parameters.B)\n",
    "print(\"q0t : \", q0t.shape)\n",
    "\n",
    "# propagation (with zero noise), output in t,f\n",
    "qzt, qzf = channel.channel(parameters.t, q0t, 100, 0, parameters.B) \n",
    "# equalized output\n",
    "qzte, qzfe = equalizer.equalize(parameters.t, qzt, 100)\n",
    "\n",
    "print(\"qzt : \", qzt.shape)\n",
    "print(\"qzte : \", qzte.shape)\n",
    "\n",
    "print(\"comp : \", compare(q0t, qzte))\n",
    "\n",
    "# Demodulation\n",
    "#qzte = qzte.reshape(1,-1) # if Gaussian\n",
    "shat = demodulator.demod(parameters.t, parameters.dt, qzte, parameters.B, parameters.n)\n",
    "\n",
    "# Detection\n",
    "stilde, indexes = detector.detector(shat, parameters.M)\n",
    "bhat = detector.symbols_to_bit(indexes, parameters.M)"
   ]
  },
  {
   "cell_type": "markdown",
   "metadata": {},
   "source": [
    "#### Let's compare the symbol-error-rate and the bit-error-rate"
   ]
  },
  {
   "cell_type": "code",
   "execution_count": 120,
   "metadata": {},
   "outputs": [
    {
     "data": {
      "text/plain": [
       "array([0, 0, 1, 0, 1, 1, 1, 0, 1, 0, 1, 1, 0, 0, 1, 0, 1, 0, 0, 0, 0, 1,\n",
       "       1, 0, 0, 0, 1, 1, 0, 0, 0, 1, 0, 0, 0, 1, 0, 0, 0, 0, 0, 0, 1, 1,\n",
       "       0, 1, 1, 0, 0, 0, 1, 1, 1, 1, 0, 0, 0, 0, 0, 0, 0, 1, 1, 1])"
      ]
     },
     "execution_count": 120,
     "metadata": {},
     "output_type": "execute_result"
    }
   ],
   "source": [
    "b"
   ]
  },
  {
   "cell_type": "code",
   "execution_count": 121,
   "metadata": {},
   "outputs": [
    {
     "data": {
      "text/plain": [
       "array([0, 1, 1, 1, 1, 1, 1, 1, 1, 1, 1, 1, 0, 1, 1, 1, 1, 1, 0, 1, 0, 1,\n",
       "       1, 1, 0, 1, 1, 1, 0, 1, 0, 1, 0, 1, 0, 1, 0, 1, 0, 1, 0, 1, 1, 1,\n",
       "       0, 1, 1, 1, 0, 1, 1, 1, 1, 1, 0, 1, 0, 1, 0, 1, 0, 1, 1, 1])"
      ]
     },
     "execution_count": 121,
     "metadata": {},
     "output_type": "execute_result"
    }
   ],
   "source": [
    "bhat"
   ]
  },
  {
   "cell_type": "code",
   "execution_count": 122,
   "metadata": {},
   "outputs": [],
   "source": [
    "ser = detector.ser(s, shat)  # symbol error rate\n",
    "ber = detector.ber(b, bhat)  # bit error rate"
   ]
  },
  {
   "cell_type": "code",
   "execution_count": 123,
   "metadata": {},
   "outputs": [
    {
     "name": "stdout",
     "output_type": "stream",
     "text": [
      "17.071067811865476\n"
     ]
    }
   ],
   "source": [
    "print(np.sum(np.absolute(s - stilde)))"
   ]
  },
  {
   "cell_type": "code",
   "execution_count": 124,
   "metadata": {},
   "outputs": [
    {
     "data": {
      "text/plain": [
       "0.3125"
      ]
     },
     "execution_count": 124,
     "metadata": {},
     "output_type": "execute_result"
    }
   ],
   "source": [
    "ber"
   ]
  },
  {
   "cell_type": "code",
   "execution_count": 125,
   "metadata": {},
   "outputs": [
    {
     "data": {
      "text/plain": [
       "37.30656297319179"
      ]
     },
     "execution_count": 125,
     "metadata": {},
     "output_type": "execute_result"
    }
   ],
   "source": [
    "ser"
   ]
  },
  {
   "cell_type": "markdown",
   "metadata": {},
   "source": []
  },
  {
   "cell_type": "code",
   "execution_count": null,
   "metadata": {},
   "outputs": [],
   "source": []
  },
  {
   "cell_type": "code",
   "execution_count": null,
   "metadata": {},
   "outputs": [],
   "source": []
  },
  {
   "cell_type": "code",
   "execution_count": null,
   "metadata": {},
   "outputs": [],
   "source": []
  },
  {
   "cell_type": "code",
   "execution_count": null,
   "metadata": {},
   "outputs": [],
   "source": []
  },
  {
   "cell_type": "code",
   "execution_count": null,
   "metadata": {},
   "outputs": [],
   "source": []
  },
  {
   "cell_type": "code",
   "execution_count": null,
   "metadata": {},
   "outputs": [],
   "source": []
  },
  {
   "cell_type": "code",
   "execution_count": null,
   "metadata": {},
   "outputs": [],
   "source": []
  },
  {
   "cell_type": "code",
   "execution_count": null,
   "metadata": {},
   "outputs": [],
   "source": []
  },
  {
   "cell_type": "code",
   "execution_count": null,
   "metadata": {},
   "outputs": [],
   "source": []
  },
  {
   "cell_type": "code",
   "execution_count": null,
   "metadata": {},
   "outputs": [],
   "source": []
  },
  {
   "cell_type": "code",
   "execution_count": null,
   "metadata": {},
   "outputs": [],
   "source": []
  },
  {
   "cell_type": "markdown",
   "metadata": {},
   "source": [
    "## 2.2.4 Performance evaluation"
   ]
  },
  {
   "cell_type": "code",
   "execution_count": null,
   "metadata": {},
   "outputs": [],
   "source": []
  },
  {
   "cell_type": "code",
   "execution_count": null,
   "metadata": {},
   "outputs": [],
   "source": []
  },
  {
   "cell_type": "code",
   "execution_count": null,
   "metadata": {},
   "outputs": [],
   "source": []
  },
  {
   "cell_type": "code",
   "execution_count": null,
   "metadata": {},
   "outputs": [],
   "source": []
  },
  {
   "cell_type": "code",
   "execution_count": null,
   "metadata": {},
   "outputs": [],
   "source": []
  },
  {
   "cell_type": "code",
   "execution_count": null,
   "metadata": {},
   "outputs": [],
   "source": []
  },
  {
   "cell_type": "code",
   "execution_count": null,
   "metadata": {},
   "outputs": [],
   "source": []
  },
  {
   "cell_type": "code",
   "execution_count": null,
   "metadata": {},
   "outputs": [],
   "source": []
  },
  {
   "cell_type": "markdown",
   "metadata": {},
   "source": [
    "# 2.3 Generative deep neural network"
   ]
  },
  {
   "cell_type": "code",
   "execution_count": 6,
   "metadata": {},
   "outputs": [],
   "source": [
    "q0t = modulator.mod(parameters.t,val_s, parameters.B)\n",
    "y_gen = nnetGen.nnet_gen(q0t)"
   ]
  },
  {
   "cell_type": "markdown",
   "metadata": {},
   "source": [
    "# Data Gen"
   ]
  },
  {
   "cell_type": "code",
   "execution_count": 9,
   "metadata": {},
   "outputs": [],
   "source": [
    "# Generating the dataset\n",
    "def generateDataset(nbrOfObservations, parameters, transmitor, modulator, nnetGen, demodulator, detector, isGaussian =False):\n",
    "\n",
    "    X = np.ndarray((nbrOfObservations, parameters.N), dtype=np.complex128)\n",
    "    y = np.ndarray((nbrOfObservations, parameters.N), dtype=np.complex128)    \n",
    "    bits_in = np.ndarray((nbrOfObservations, parameters.nb))\n",
    "    bhat_out = np.ndarray((nbrOfObservations, parameters.nb))\n",
    "    symb_in = np.ndarray((nbrOfObservations, parameters.n))\n",
    "    symb_out = np.ndarray((nbrOfObservations, parameters.n))\n",
    "\n",
    "\n",
    "    print(\"[INFO] Generating the dataset...\")\n",
    "\n",
    "    for i in tqdm(range(nbrOfObservations)):\n",
    "        \n",
    "        # Constellation\n",
    "        constellation = transmitor.build_constellations(parameters.M)\n",
    "        \n",
    "        #source\n",
    "        source = transmitor.source(parameters.nb , parameters.p) # USE IT FOR NEXT PART OF BITS\n",
    "        \n",
    "        # Bits to Symboles - symbol sequence\n",
    "        bitsToSymbols = transmitor.bit_to_symb(source, parameters.M)\n",
    "\n",
    "        # symbol sequence, we create a list of values of the complex symbols to use them in modulation\n",
    "        s = transmitor.bit_to_symb(source, parameters.M)\n",
    "        \n",
    "        # channel - we take gaussian input\n",
    "        if isGaussian:\n",
    "            q0t = parameters.A*np.exp(-parameters.t**2) \n",
    "\n",
    "        else :\n",
    "            q0t = modulator.mod(parameters.t,s, parameters.B)  \n",
    "        \n",
    "        # Neural Net Generator\n",
    "        y_gen = nnetGen.nnet_gen(q0t)\n",
    "        # equalized y_gen\n",
    "        qzte, qzfe = equalizer.equalize(parameters.t, y_gen, parameters.z) # equalized output\n",
    "        qzte = qzte.reshape(1,-1)\n",
    "        # demodulation\n",
    "        shat = demodulator.demod(parameters.t, parameters.dt, qzte, parameters.B, parameters.n)\n",
    "\n",
    "        # detection\n",
    "        stilde, indexes = detector.detector(shat, parameters.M)\n",
    "        bhat = detector.symbols_to_bit(indexes, parameters.M)\n",
    "        \n",
    "        # SOURCE IS THE SEQUENCE OF BITS TO BE LEARNED\n",
    "        \n",
    "        # Modulated signal\n",
    "        X[i] = np.squeeze(q0t)\n",
    "        # Neural Net Generator\n",
    "        y[i] = y_gen\n",
    "        # original bit sequence (source)\n",
    "        bits_in[i] = source\n",
    "        # estimated bit sequence\n",
    "        bhat_out[i] = bhat\n",
    "        # original symbol sequence (source)\n",
    "\n",
    "        symb_in[i] = np.squeeze(s)\n",
    "        # estimated symbol sequence\n",
    "        symb_out[i] = np.squeeze(shat)\n",
    "        \n",
    "    print(\"[INFO] The dataset is ready now !\")\n",
    "\n",
    "    return X, y, bits_in, bhat_out, symb_in, symb_out"
   ]
  },
  {
   "cell_type": "code",
   "execution_count": 18,
   "metadata": {},
   "outputs": [],
   "source": [
    "nbrOfObservations = 10000 #(1h for 10k observations)"
   ]
  },
  {
   "cell_type": "code",
   "execution_count": 11,
   "metadata": {},
   "outputs": [
    {
     "name": "stderr",
     "output_type": "stream",
     "text": [
      "\r",
      "  0%|                                                                                          | 0/200 [00:00<?, ?it/s]"
     ]
    },
    {
     "name": "stdout",
     "output_type": "stream",
     "text": [
      "[INFO] Generating the dataset...\n"
     ]
    },
    {
     "name": "stderr",
     "output_type": "stream",
     "text": [
      "C:\\Python36\\lib\\site-packages\\ipykernel_launcher.py:59: ComplexWarning: Casting complex values to real discards the imaginary part\n",
      "C:\\Python36\\lib\\site-packages\\ipykernel_launcher.py:61: ComplexWarning: Casting complex values to real discards the imaginary part\n",
      "100%|████████████████████████████████████████████████████████████████████████████████| 200/200 [01:22<00:00,  2.42it/s]"
     ]
    },
    {
     "name": "stdout",
     "output_type": "stream",
     "text": [
      "[INFO] The dataset is ready now !\n"
     ]
    },
    {
     "name": "stderr",
     "output_type": "stream",
     "text": [
      "\n"
     ]
    }
   ],
   "source": [
    "X, y, bits_in, bhat_out, symb_in, symb_out = generateDataset(nbrOfObservations, parameters, transmitor, modulator, nnetGen, demodulator, detector, isGaussian =False)"
   ]
  },
  {
   "cell_type": "code",
   "execution_count": 8,
   "metadata": {},
   "outputs": [
    {
     "data": {
      "text/plain": [
       "[<matplotlib.lines.Line2D at 0x205d1906ba8>]"
      ]
     },
     "execution_count": 8,
     "metadata": {},
     "output_type": "execute_result"
    },
    {
     "data": {
      "image/png": "[encoded data removed]",
      "text/plain": [
       "<Figure size 432x288 with 1 Axes>"
      ]
     },
     "metadata": {
      "needs_background": "light"
     },
     "output_type": "display_data"
    }
   ],
   "source": [
    "plt.plot(np.abs(q0t))\n",
    "plt.plot(np.abs(y_gen))"
   ]
  },
  {
   "cell_type": "code",
   "execution_count": 7,
   "metadata": {},
   "outputs": [
    {
     "name": "stderr",
     "output_type": "stream",
     "text": [
      "C:\\Python36\\lib\\site-packages\\numpy\\core\\_asarray.py:83: ComplexWarning: Casting complex values to real discards the imaginary part\n",
      "  return array(a, dtype, copy=False, order=order)\n",
      "C:\\Python36\\lib\\site-packages\\numpy\\core\\_asarray.py:83: ComplexWarning: Casting complex values to real discards the imaginary part\n",
      "  return array(a, dtype, copy=False, order=order)\n"
     ]
    },
    {
     "data": {
      "text/plain": [
       "[<matplotlib.lines.Line2D at 0x205d183ca20>]"
      ]
     },
     "execution_count": 7,
     "metadata": {},
     "output_type": "execute_result"
    },
    {
     "data": {
      "image/png": "[encoded data removed]",
      "text/plain": [
       "<Figure size 432x288 with 1 Axes>"
      ]
     },
     "metadata": {
      "needs_background": "light"
     },
     "output_type": "display_data"
    }
   ],
   "source": [
    "plt.plot(q0t)\n",
    "plt.plot(y_gen)"
   ]
  },
  {
   "cell_type": "markdown",
   "metadata": {},
   "source": [
    "# Data preparation"
   ]
  },
  {
   "cell_type": "code",
   "execution_count": 15,
   "metadata": {},
   "outputs": [
    {
     "name": "stderr",
     "output_type": "stream",
     "text": [
      " 22%|██████████████████                                                              | 45/200 [00:00<00:00, 436.90it/s]"
     ]
    },
    {
     "name": "stdout",
     "output_type": "stream",
     "text": [
      "\n",
      " [INFO] {fromComplexToReal} runing...\n"
     ]
    },
    {
     "name": "stderr",
     "output_type": "stream",
     "text": [
      "100%|███████████████████████████████████████████████████████████████████████████████| 200/200 [00:00<00:00, 673.41it/s]\n",
      " 52%|████████████████████████████████████████▌                                     | 104/200 [00:00<00:00, 1033.22it/s]"
     ]
    },
    {
     "name": "stdout",
     "output_type": "stream",
     "text": [
      " [INFO] {fromComplexToReal} vect_real.shape :  (200, 2048)\n",
      "\n",
      " [INFO] {fromComplexToReal} runing...\n"
     ]
    },
    {
     "name": "stderr",
     "output_type": "stream",
     "text": [
      "100%|███████████████████████████████████████████████████████████████████████████████| 200/200 [00:00<00:00, 958.67it/s]"
     ]
    },
    {
     "name": "stdout",
     "output_type": "stream",
     "text": [
      " [INFO] {fromComplexToReal} vect_real.shape :  (200, 2048)\n",
      "{prepareDataFrame} df_.shape :  (200, 4096)\n",
      "Toral time to prepare the dataframe is :  0.525623083114624  seconds.\n"
     ]
    },
    {
     "name": "stderr",
     "output_type": "stream",
     "text": [
      "\n"
     ]
    }
   ],
   "source": [
    "t1 = time.time()\n",
    "# if scaling=True, we are using min-max scaler\n",
    "df = prepareDataFrame(X, y, scaling=False)\n",
    "#df.to_csv(\"../data/data_90K.csv.gz\", index=False, compression=\"gzip\")\n",
    "t2 = time.time()\n",
    "print(\"Toral time to prepare the dataframe is : \", t2-t1, \" seconds.\")"
   ]
  },
  {
   "cell_type": "code",
   "execution_count": 16,
   "metadata": {},
   "outputs": [],
   "source": [
    "n_samples, n_features = X.shape\n",
    "n_hidden = 512"
   ]
  },
  {
   "cell_type": "code",
   "execution_count": 17,
   "metadata": {},
   "outputs": [
    {
     "name": "stdout",
     "output_type": "stream",
     "text": [
      "[INFO] - {prepareTrainAndTestData} converting from pandas to numpy...\n",
      "[INFO] train and test data are ready.\n",
      "X.shape :  (200, 2048)\n",
      "y.shape :  (200, 2048)\n",
      "X_train.shape :  (150, 2048, 1)\n",
      "y_train.shape :  (150, 2048, 1)\n",
      "X_test.shape :  (50, 2048, 1)\n",
      "y_test.shape :  (50, 2048, 1)\n"
     ]
    }
   ],
   "source": [
    "withReshape = True\n",
    "ts = 0.25\n",
    "X_train, X_test, y_train, y_test = prepareTrainAndTestData(df, withReshape, ts)"
   ]
  },
  {
   "cell_type": "code",
   "execution_count": 18,
   "metadata": {},
   "outputs": [],
   "source": [
    "X_train = np.squeeze(X_train)\n",
    "X_test = np.squeeze(X_test)\n",
    "y_train = np.squeeze(y_train)\n",
    "y_test = np.squeeze(y_test)"
   ]
  },
  {
   "cell_type": "markdown",
   "metadata": {},
   "source": [
    "# Model"
   ]
  },
  {
   "cell_type": "code",
   "execution_count": 20,
   "metadata": {},
   "outputs": [],
   "source": [
    "optimizer = Adam()\n",
    "opti = 'Adam'\n",
    "n_features = 2048\n",
    "n_output = 2048\n",
    "rect_mlp = NeuralNetwork(optimizer=optimizer,\n",
    "                        loss=SquareLoss,\n",
    "                        validation_data=(X_test, y_test))"
   ]
  },
  {
   "cell_type": "code",
   "execution_count": 21,
   "metadata": {},
   "outputs": [
    {
     "name": "stdout",
     "output_type": "stream",
     "text": [
      "\n",
      "+-----+\n",
      "| MLP |\n",
      "+-----+\n",
      "Input Shape: (2048,)\n",
      "+--------------------+------------+--------------+\n",
      "| Layer Type         | Parameters | Output Shape |\n",
      "+--------------------+------------+--------------+\n",
      "| Dense              | 4196352    | (2048,)      |\n",
      "| Activation (SELU)  | 0          | (2048,)      |\n",
      "| Dropout            | 0          | (2048,)      |\n",
      "| BatchNormalization | 4096       | (2048,)      |\n",
      "| Dense              | 2098176    | (1024,)      |\n",
      "| Activation (SELU)  | 0          | (1024,)      |\n",
      "| Dropout            | 0          | (1024,)      |\n",
      "| BatchNormalization | 2048       | (1024,)      |\n",
      "| Dense              | 524800     | (512,)       |\n",
      "| Activation (SELU)  | 0          | (512,)       |\n",
      "| Dropout            | 0          | (512,)       |\n",
      "| BatchNormalization | 1024       | (512,)       |\n",
      "| Dense              | 525312     | (1024,)      |\n",
      "| Activation (SELU)  | 0          | (1024,)      |\n",
      "| Dropout            | 0          | (1024,)      |\n",
      "| BatchNormalization | 2048       | (1024,)      |\n",
      "| Dense              | 2099200    | (2048,)      |\n",
      "| Activation (SELU)  | 0          | (2048,)      |\n",
      "+--------------------+------------+--------------+\n",
      "Total Parameters: 9453056\n",
      "\n"
     ]
    }
   ],
   "source": [
    "rect_mlp.add(Dense(2048, input_shape=(n_features,)))\n",
    "rect_mlp.add(Activation('selu'))\n",
    "rect_mlp.add(Dropout(0.25))\n",
    "rect_mlp.add(BatchNormalization())\n",
    "\n",
    "rect_mlp.add(Dense(1024))\n",
    "rect_mlp.add(Activation('selu'))\n",
    "rect_mlp.add(Dropout(0.25))\n",
    "rect_mlp.add(BatchNormalization())\n",
    "\n",
    "rect_mlp.add(Dense(512))\n",
    "rect_mlp.add(Activation('selu'))\n",
    "rect_mlp.add(Dropout(0.25))\n",
    "rect_mlp.add(BatchNormalization())\n",
    "\n",
    "rect_mlp.add(Dense(1024))\n",
    "rect_mlp.add(Activation('selu'))\n",
    "rect_mlp.add(Dropout(0.25))\n",
    "rect_mlp.add(BatchNormalization())\n",
    "\n",
    "rect_mlp.add(Dense(n_output))\n",
    "rect_mlp.add(Activation('selu'))\n",
    "\n",
    "print ()\n",
    "rect_mlp.summary(name=\"MLP\")"
   ]
  },
  {
   "cell_type": "code",
   "execution_count": 22,
   "metadata": {},
   "outputs": [],
   "source": [
    "num_epochs = 10\n",
    "batch_size = 256"
   ]
  },
  {
   "cell_type": "code",
   "execution_count": 23,
   "metadata": {},
   "outputs": [
    {
     "name": "stderr",
     "output_type": "stream",
     "text": [
      "Training:   0% [                                               ] ETA:  --:--:--\r"
     ]
    },
    {
     "name": "stdout",
     "output_type": "stream",
     "text": [
      "[INFO] Batch size :  256\n",
      "[INFO] Training epochs number :  10\n"
     ]
    },
    {
     "name": "stderr",
     "output_type": "stream",
     "text": [
      "Training:  10% [----                                            ] ETA:  0:00:12\r"
     ]
    },
    {
     "name": "stdout",
     "output_type": "stream",
     "text": [
      "[INFO] Training loss on epoch  1  :  0.51806\n",
      "[INFO] Validation loss on epoch  1  :  0.45594\n",
      "-------------------------------------------------------------------------------\n"
     ]
    },
    {
     "name": "stderr",
     "output_type": "stream",
     "text": [
      "Training:  20% [---------                                       ] ETA:  0:00:11\r"
     ]
    },
    {
     "name": "stdout",
     "output_type": "stream",
     "text": [
      "[INFO] Training loss on epoch  2  :  0.45551\n",
      "[INFO] Validation loss on epoch  2  :  0.48951\n",
      "-------------------------------------------------------------------------------\n"
     ]
    },
    {
     "name": "stderr",
     "output_type": "stream",
     "text": [
      "Training:  30% [--------------                                  ] ETA:  0:00:09\r"
     ]
    },
    {
     "name": "stdout",
     "output_type": "stream",
     "text": [
      "[INFO] Training loss on epoch  3  :  0.38984\n",
      "[INFO] Validation loss on epoch  3  :  0.59075\n",
      "-------------------------------------------------------------------------------\n"
     ]
    },
    {
     "name": "stderr",
     "output_type": "stream",
     "text": [
      "Training:  40% [-------------------                             ] ETA:  0:00:08\r"
     ]
    },
    {
     "name": "stdout",
     "output_type": "stream",
     "text": [
      "[INFO] Training loss on epoch  4  :  0.33869\n",
      "[INFO] Validation loss on epoch  4  :  0.83493\n",
      "-------------------------------------------------------------------------------\n"
     ]
    },
    {
     "name": "stderr",
     "output_type": "stream",
     "text": [
      "Training:  50% [------------------------                        ] ETA:  0:00:06\r"
     ]
    },
    {
     "name": "stdout",
     "output_type": "stream",
     "text": [
      "[INFO] Training loss on epoch  5  :  0.31109\n",
      "[INFO] Validation loss on epoch  5  :  1.15077\n",
      "-------------------------------------------------------------------------------\n"
     ]
    },
    {
     "name": "stderr",
     "output_type": "stream",
     "text": [
      "Training:  60% [----------------------------                    ] ETA:  0:00:05\r"
     ]
    },
    {
     "name": "stdout",
     "output_type": "stream",
     "text": [
      "[INFO] Training loss on epoch  6  :  0.29249\n",
      "[INFO] Validation loss on epoch  6  :  1.49968\n",
      "-------------------------------------------------------------------------------\n"
     ]
    },
    {
     "name": "stderr",
     "output_type": "stream",
     "text": [
      "Training:  70% [---------------------------------               ] ETA:  0:00:04\r"
     ]
    },
    {
     "name": "stdout",
     "output_type": "stream",
     "text": [
      "[INFO] Training loss on epoch  7  :  0.28000\n",
      "[INFO] Validation loss on epoch  7  :  1.84788\n",
      "-------------------------------------------------------------------------------\n"
     ]
    },
    {
     "name": "stderr",
     "output_type": "stream",
     "text": [
      "Training:  80% [--------------------------------------          ] ETA:  0:00:02\r"
     ]
    },
    {
     "name": "stdout",
     "output_type": "stream",
     "text": [
      "[INFO] Training loss on epoch  8  :  0.26379\n",
      "[INFO] Validation loss on epoch  8  :  2.17695\n",
      "-------------------------------------------------------------------------------\n"
     ]
    },
    {
     "name": "stderr",
     "output_type": "stream",
     "text": [
      "Training:  90% [-------------------------------------------     ] ETA:  0:00:01\r"
     ]
    },
    {
     "name": "stdout",
     "output_type": "stream",
     "text": [
      "[INFO] Training loss on epoch  9  :  0.25188\n",
      "[INFO] Validation loss on epoch  9  :  2.43993\n",
      "-------------------------------------------------------------------------------\n"
     ]
    },
    {
     "name": "stderr",
     "output_type": "stream",
     "text": [
      "Training: 100% [------------------------------------------------] Time: 0:00:14\r"
     ]
    },
    {
     "name": "stdout",
     "output_type": "stream",
     "text": [
      "[INFO] Training loss on epoch  10  :  0.24087\n",
      "[INFO] Validation loss on epoch  10  :  2.64036\n",
      "-------------------------------------------------------------------------------\n"
     ]
    },
    {
     "name": "stderr",
     "output_type": "stream",
     "text": [
      "\n"
     ]
    }
   ],
   "source": [
    "print(\"[INFO] Batch size : \", batch_size)\n",
    "print(\"[INFO] Training epochs number : \", num_epochs)\n",
    "train_err_rect, val_err_rect = rect_mlp.fit(X_train, y_train, num_epochs, batch_size)"
   ]
  },
  {
   "cell_type": "code",
   "execution_count": 50,
   "metadata": {},
   "outputs": [
    {
     "ename": "NameError",
     "evalue": "name 'evaluate_model' is not defined",
     "output_type": "error",
     "traceback": [
      "\u001b[1;31m---------------------------------------------------------------------------\u001b[0m",
      "\u001b[1;31mNameError\u001b[0m                                 Traceback (most recent call last)",
      "\u001b[1;32m<ipython-input-50-a60875317fb0>\u001b[0m in \u001b[0;36m<module>\u001b[1;34m\u001b[0m\n\u001b[0;32m      1\u001b[0m \u001b[0mindex_pred\u001b[0m\u001b[1;33m=\u001b[0m \u001b[1;36m0\u001b[0m\u001b[1;33m\u001b[0m\u001b[1;33m\u001b[0m\u001b[0m\n\u001b[1;32m----> 2\u001b[1;33m \u001b[0my_pred\u001b[0m \u001b[1;33m=\u001b[0m \u001b[0mevaluate_model\u001b[0m\u001b[1;33m(\u001b[0m\u001b[0mrect_mlp\u001b[0m\u001b[1;33m,\u001b[0m \u001b[0mX_test\u001b[0m\u001b[1;33m,\u001b[0m \u001b[0my_test\u001b[0m\u001b[1;33m,\u001b[0m \u001b[0mindex_pred\u001b[0m\u001b[1;33m,\u001b[0m \u001b[0mopti\u001b[0m\u001b[1;33m,\u001b[0m \u001b[0mtrain_err_rect\u001b[0m\u001b[1;33m,\u001b[0m \u001b[0mval_err_rect\u001b[0m\u001b[1;33m)\u001b[0m\u001b[1;33m\u001b[0m\u001b[1;33m\u001b[0m\u001b[0m\n\u001b[0m",
      "\u001b[1;31mNameError\u001b[0m: name 'evaluate_model' is not defined"
     ]
    }
   ],
   "source": [
    "index_pred= 0\n",
    "y_pred = evaluate_model(rect_mlp, X_test, y_test, index_pred, opti, train_err_rect, val_err_rect)"
   ]
  },
  {
   "cell_type": "markdown",
   "metadata": {},
   "source": [
    "## Performance evaluation"
   ]
  },
  {
   "cell_type": "code",
   "execution_count": null,
   "metadata": {},
   "outputs": [],
   "source": [
    "s = bitToSymb(b, M)\n",
    "q0t = mod(t, s, B)"
   ]
  },
  {
   "cell_type": "code",
   "execution_count": 51,
   "metadata": {},
   "outputs": [
    {
     "data": {
      "text/plain": [
       "array([[-0.63005374, -1.59363084,  0.90690384, ...,  0.79101574,\n",
       "        -1.34517683, -0.25255688]])"
      ]
     },
     "execution_count": 51,
     "metadata": {},
     "output_type": "execute_result"
    }
   ],
   "source": [
    "y_pred"
   ]
  },
  {
   "cell_type": "code",
   "execution_count": 53,
   "metadata": {},
   "outputs": [
    {
     "name": "stderr",
     "output_type": "stream",
     "text": [
      "100%|████████████████████████████████████████████████████████████████████████████████████| 1/1 [00:00<00:00, 90.90it/s]"
     ]
    },
    {
     "name": "stdout",
     "output_type": "stream",
     "text": [
      "\n",
      " [INFO] {fromRealToComplex} runing...\n",
      "[INFO] {fromRealToComplex} vect_im.shape :  (1, 1024)\n",
      "[channel] qzt : [[ 1.26500192+0.0019399j  -2.73153458+0.56513628j  1.06782327+0.17706405j\n",
      "  ... -0.95139833+0.32534958j -2.29527718+0.84773806j\n",
      "  -1.61576552-0.73295409j]]\n",
      "[channel] qzf : [[ 231.90072498+221.27979258j -238.26652423 -91.82142005j\n",
      "    98.03501858 +16.84368961j ... -239.27998915-226.70653915j\n",
      "   300.02135842+281.54136407j -244.79443277-323.01794894j]]\n",
      "[Equalizer] qzte : [[-0.63005376-1.59363079j  0.90690386-0.28902468j -0.2432705 -1.02888262j\n",
      "  ... -1.58655644+1.13197743j -0.69098031+0.79101574j\n",
      "  -1.34517682-0.2525569j ]]\n",
      "[Equalizer] qzfe : [[ 231.90072498+221.27979258j -239.14044461 -89.52070989j\n",
      "    98.61138699 +13.05255161j ... -258.02121583-205.12391446j\n",
      "   310.65003401+269.76825528j -247.8963536 -320.64358332j]]\n"
     ]
    },
    {
     "name": "stderr",
     "output_type": "stream",
     "text": [
      "\n"
     ]
    }
   ],
   "source": [
    "# propagation & equalization.\n",
    "q0t = fromRealToComplex(y_pred)\n",
    "qzt, qzf = channel.channel(parameters.t, q0t, parameters.z, parameters.sigma2, parameters.B) # output in t,f\n",
    "qzte, qzfe = equalizer.equalize(parameters.t, qzt, parameters.z) # equalized output\n",
    "# demodulation\n",
    "shat = demodulator.demod(parameters.t, parameters.dt, qzte, parameters.B, parameters.n)\n",
    "\n",
    "# detection\n",
    "stilde, indexes = detector.detector(shat, M)\n",
    "bhat = detector.symbols_to_bit(indexes, M)"
   ]
  },
  {
   "cell_type": "code",
   "execution_count": 57,
   "metadata": {},
   "outputs": [
    {
     "data": {
      "text/plain": [
       "(1, 1024)"
      ]
     },
     "execution_count": 57,
     "metadata": {},
     "output_type": "execute_result"
    }
   ],
   "source": [
    "qzt.shape"
   ]
  },
  {
   "cell_type": "code",
   "execution_count": 29,
   "metadata": {},
   "outputs": [
    {
     "data": {
      "text/plain": [
       "array([[-2.60733549-3.31454681j],\n",
       "       [ 0.83178736+2.73640648j],\n",
       "       [ 0.95153583-1.43414499j],\n",
       "       [-0.07969793+3.19582603j],\n",
       "       [ 1.51985879-3.22977955j],\n",
       "       [-2.19806618+4.89734426j],\n",
       "       [ 2.94428658+0.23852739j],\n",
       "       [ 2.05109064+1.80774651j],\n",
       "       [ 0.46441487+8.45062161j],\n",
       "       [-1.95283607-1.12799967j],\n",
       "       [-1.27438   -1.86820945j],\n",
       "       [ 1.50666975-1.17863641j],\n",
       "       [16.39241219-1.53011492j],\n",
       "       [-1.34442668-1.45247614j],\n",
       "       [ 0.34290359-1.97204797j],\n",
       "       [-1.53898609+6.42212326j]])"
      ]
     },
     "execution_count": 29,
     "metadata": {},
     "output_type": "execute_result"
    }
   ],
   "source": [
    "shat"
   ]
  },
  {
   "cell_type": "code",
   "execution_count": 34,
   "metadata": {},
   "outputs": [],
   "source": [
    "b = transmitor.source(parameters.nb , parameters.p)\n",
    "s = transmitor.bit_to_symb(b, 16)"
   ]
  },
  {
   "cell_type": "code",
   "execution_count": 35,
   "metadata": {},
   "outputs": [
    {
     "data": {
      "text/plain": [
       "(16, 1)"
      ]
     },
     "execution_count": 35,
     "metadata": {},
     "output_type": "execute_result"
    }
   ],
   "source": [
    "shat.shape"
   ]
  },
  {
   "cell_type": "code",
   "execution_count": 36,
   "metadata": {},
   "outputs": [],
   "source": [
    "ser = detector.ser(s, shat)  # symbol error rate\n",
    "ber = detector.ber(b, bhat)  # bit error rate"
   ]
  },
  {
   "cell_type": "code",
   "execution_count": 37,
   "metadata": {},
   "outputs": [
    {
     "data": {
      "text/plain": [
       "75.44596722617987"
      ]
     },
     "execution_count": 37,
     "metadata": {},
     "output_type": "execute_result"
    }
   ],
   "source": [
    "ser"
   ]
  },
  {
   "cell_type": "code",
   "execution_count": 38,
   "metadata": {},
   "outputs": [
    {
     "data": {
      "text/plain": [
       "0.484375"
      ]
     },
     "execution_count": 38,
     "metadata": {},
     "output_type": "execute_result"
    }
   ],
   "source": [
    "ber"
   ]
  },
  {
   "cell_type": "code",
   "execution_count": null,
   "metadata": {},
   "outputs": [],
   "source": []
  }
 ],
 "metadata": {
  "kernelspec": {
   "display_name": "Python 3.6.8 64-bit",
   "language": "python",
   "name": "python36864bit5d1453442e8543df8126f0c5c89733bf"
  },
  "language_info": {
   "codemirror_mode": {
    "name": "ipython",
    "version": 3
   },
   "file_extension": ".py",
   "mimetype": "text/x-python",
   "name": "python",
   "nbconvert_exporter": "python",
   "pygments_lexer": "ipython3",
   "version": "3.6.8"
  }
 },
 "nbformat": 4,
 "nbformat_minor": 2
}
