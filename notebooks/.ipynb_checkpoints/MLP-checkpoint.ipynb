{
 "cells": [
  {
   "cell_type": "code",
   "execution_count": 1,
   "metadata": {},
   "outputs": [
    {
     "name": "stderr",
     "output_type": "stream",
     "text": [
      "In C:\\Python36\\lib\\site-packages\\matplotlib\\mpl-data\\stylelib\\_classic_test.mplstyle: \n",
      "The text.latex.preview rcparam was deprecated in Matplotlib 3.3 and will be removed two minor releases later.\n",
      "In C:\\Python36\\lib\\site-packages\\matplotlib\\mpl-data\\stylelib\\_classic_test.mplstyle: \n",
      "The mathtext.fallback_to_cm rcparam was deprecated in Matplotlib 3.3 and will be removed two minor releases later.\n",
      "In C:\\Python36\\lib\\site-packages\\matplotlib\\mpl-data\\stylelib\\_classic_test.mplstyle: Support for setting the 'mathtext.fallback_to_cm' rcParam is deprecated since 3.3 and will be removed two minor releases later; use 'mathtext.fallback : 'cm' instead.\n",
      "In C:\\Python36\\lib\\site-packages\\matplotlib\\mpl-data\\stylelib\\_classic_test.mplstyle: \n",
      "The validate_bool_maybe_none function was deprecated in Matplotlib 3.3 and will be removed two minor releases later.\n",
      "In C:\\Python36\\lib\\site-packages\\matplotlib\\mpl-data\\stylelib\\_classic_test.mplstyle: \n",
      "The savefig.jpeg_quality rcparam was deprecated in Matplotlib 3.3 and will be removed two minor releases later.\n",
      "In C:\\Python36\\lib\\site-packages\\matplotlib\\mpl-data\\stylelib\\_classic_test.mplstyle: \n",
      "The keymap.all_axes rcparam was deprecated in Matplotlib 3.3 and will be removed two minor releases later.\n",
      "In C:\\Python36\\lib\\site-packages\\matplotlib\\mpl-data\\stylelib\\_classic_test.mplstyle: \n",
      "The animation.avconv_path rcparam was deprecated in Matplotlib 3.3 and will be removed two minor releases later.\n",
      "In C:\\Python36\\lib\\site-packages\\matplotlib\\mpl-data\\stylelib\\_classic_test.mplstyle: \n",
      "The animation.avconv_args rcparam was deprecated in Matplotlib 3.3 and will be removed two minor releases later.\n",
      "Using TensorFlow backend.\n"
     ]
    }
   ],
   "source": [
    "from __future__ import print_function\n",
    "from sklearn import datasets\n",
    "import matplotlib.pyplot as plt\n",
    "import numpy as np\n",
    "import sys\n",
    "\n",
    "sys.path.append(\"C:/Users/admin/Desktop/IP Paris/MICAS/Cours/910/913 - Deep Learning/Project/\")\n",
    "\n",
    "# Import helper functions\n",
    "from networks import NeuralNetwork\n",
    "from optimization.optimizers import StochasticGradientDescent, Adam, RMSprop, Adagrad, Adadelta\n",
    "from networks.loss_functions import CrossEntropy, SquareLoss\n",
    "from utils.misc import bar_widgets\n",
    "from networks.layers import Dense, Dropout, Activation, BatchNormalization\n",
    "\n",
    "from helpers.helper import *\n",
    "from helpers.processing import *\n",
    "\n",
    "import pandas as pd\n",
    "from numpy import save\n",
    "import matplotlib.pyplot as plt\n",
    "from tqdm import tqdm\n",
    "\n",
    "from sklearn.model_selection import train_test_split\n",
    "from sklearn import preprocessing\n",
    "from sklearn.utils import shuffle\n",
    "from sklearn.preprocessing import MinMaxScaler\n",
    "\n",
    "\n",
    "\n",
    "import time"
   ]
  },
  {
   "cell_type": "code",
   "execution_count": 15,
   "metadata": {},
   "outputs": [],
   "source": [
    "def evals(model, X_test, y_test, index_pred, opti, train_err, val_err):\n",
    "    \n",
    "    # Training and validation error plot\n",
    "    n = len(train_err)\n",
    "    training, = plt.plot(range(n), train_err, label=\"Training Error\")\n",
    "    validation, = plt.plot(range(n), val_err, label=\"Validation Error\")\n",
    "    plt.legend(handles=[training, validation])\n",
    "    plt.title(\"Error Plot using \"+str(opti))\n",
    "    plt.ylabel('Error')\n",
    "    plt.xlabel('Iterations')\n",
    "    plt.show()\n",
    "    \n",
    "    y_pred = model.predict(X_test[index_pred])\n",
    "    \n",
    "    plt.title(\"Predicted Signal\")\n",
    "    plt.plot(np.squeeze(np.abs(y_pred)))\n",
    "    plt.show()\n",
    "    \n",
    "    plt.title(\"Predicted Signal vs Original\")\n",
    "    plt.plot(np.squeeze(np.abs(y_pred)), label=\"prediction\")\n",
    "    plt.plot(np.squeeze(np.abs(y_test[index_pred])), label=\"original\")\n",
    "    plt.legend()\n",
    "    plt.show()"
   ]
  },
  {
   "cell_type": "code",
   "execution_count": 2,
   "metadata": {},
   "outputs": [
    {
     "name": "stderr",
     "output_type": "stream",
     "text": [
      "  0%|▏                                                                             | 54/30000 [00:00<00:55, 538.27it/s]"
     ]
    },
    {
     "name": "stdout",
     "output_type": "stream",
     "text": [
      "\n",
      " [INFO] {fromComplexToReal} runing...\n",
      "\n",
      " [INFO] vect_real.shape :  (30000, 2048)\n"
     ]
    },
    {
     "name": "stderr",
     "output_type": "stream",
     "text": [
      "100%|███████████████████████████████████████████████████████████████████████████| 30000/30000 [01:00<00:00, 498.75it/s]\n",
      "  0%|▏                                                                             | 59/30000 [00:00<00:51, 586.39it/s]"
     ]
    },
    {
     "name": "stdout",
     "output_type": "stream",
     "text": [
      " [INFO] {fromComplexToReal} vect_real.shape :  (30000, 2048)\n",
      "\n",
      " [INFO] {fromComplexToReal} runing...\n",
      "\n",
      " [INFO] vect_real.shape :  (30000, 2048)\n"
     ]
    },
    {
     "name": "stderr",
     "output_type": "stream",
     "text": [
      "100%|███████████████████████████████████████████████████████████████████████████| 30000/30000 [01:06<00:00, 449.27it/s]\n"
     ]
    },
    {
     "name": "stdout",
     "output_type": "stream",
     "text": [
      " [INFO] {fromComplexToReal} vect_real.shape :  (30000, 2048)\n",
      "{prepareDataFrame} df_.shape :  (30000, 4096)\n",
      "Toral time to prepare the dataframe is :  140.34931588172913  seconds.\n"
     ]
    }
   ],
   "source": [
    "t1 = time.time()\n",
    "d2= np.load('../data/data_1_30K_P6e-2.npz')\n",
    "#d2= np.load('../data/data_1_90K_P6e-2_P5e-2_P2.6e-2.npz')\n",
    "X = d2['X']\n",
    "y = d2['y']\n",
    "\n",
    "# if scaling=True, we are using min-max scaler\n",
    "df = prepareDataFrame(X, y, scaling=False)\n",
    "#df.to_csv(\"../data/data_90K.csv.gz\", index=False, compression=\"gzip\")\n",
    "t2 = time.time()\n",
    "print(\"Toral time to prepare the dataframe is : \", t2-t1, \" seconds.\")\n",
    "\n",
    "X = df.iloc[:, 2048:4096]\n",
    "y = df.iloc[:, 0:2048]\n",
    "\n",
    "n_samples, n_features = X.shape\n",
    "n_hidden = 512"
   ]
  },
  {
   "cell_type": "code",
   "execution_count": 3,
   "metadata": {},
   "outputs": [
    {
     "name": "stdout",
     "output_type": "stream",
     "text": [
      "[INFO] - {prepareTrainAndTestData} converting from pandas to numpy...\n",
      "[INFO] train and test data are ready.\n",
      "X.shape :  (30000, 2048)\n",
      "y.shape :  (30000, 2048)\n",
      "X_train.shape :  (18000, 2048, 1)\n",
      "y_train.shape :  (18000, 2048, 1)\n",
      "X_test.shape :  (12000, 2048, 1)\n",
      "y_test.shape :  (12000, 2048, 1)\n"
     ]
    }
   ],
   "source": [
    "withReshape = True\n",
    "ts = 0.4\n",
    "X_train, X_test, y_train, y_test = prepareTrainAndTestData(df, withReshape, ts)"
   ]
  },
  {
   "cell_type": "code",
   "execution_count": 4,
   "metadata": {},
   "outputs": [],
   "source": [
    "X_train = np.squeeze(X_train)\n",
    "X_test = np.squeeze(X_test)\n",
    "y_train = np.squeeze(y_train)\n",
    "y_test = np.squeeze(y_test)"
   ]
  },
  {
   "cell_type": "markdown",
   "metadata": {},
   "source": [
    "# MLP model"
   ]
  },
  {
   "cell_type": "markdown",
   "metadata": {},
   "source": [
    "### Rectangular"
   ]
  },
  {
   "cell_type": "code",
   "execution_count": 17,
   "metadata": {},
   "outputs": [],
   "source": [
    "optimizer = Adam()\n",
    "opti = 'Adam'\n",
    "n_features = 2048\n",
    "n_output = 2048\n",
    "rect_mlp = NeuralNetwork(optimizer=optimizer,\n",
    "                        loss=SquareLoss,\n",
    "                        validation_data=(X_test, y_test))"
   ]
  },
  {
   "cell_type": "code",
   "execution_count": 18,
   "metadata": {},
   "outputs": [
    {
     "name": "stdout",
     "output_type": "stream",
     "text": [
      "\n",
      "+-----+\n",
      "| MLP |\n",
      "+-----+\n",
      "Input Shape: (2048,)\n",
      "+--------------------+------------+--------------+\n",
      "| Layer Type         | Parameters | Output Shape |\n",
      "+--------------------+------------+--------------+\n",
      "| Dense              | 524544     | (256,)       |\n",
      "| Activation (SELU)  | 0          | (256,)       |\n",
      "| Dropout            | 0          | (256,)       |\n",
      "| BatchNormalization | 512        | (256,)       |\n",
      "| Dense              | 65792      | (256,)       |\n",
      "| Activation (SELU)  | 0          | (256,)       |\n",
      "| Dropout            | 0          | (256,)       |\n",
      "| BatchNormalization | 512        | (256,)       |\n",
      "| Dense              | 65792      | (256,)       |\n",
      "| Activation (SELU)  | 0          | (256,)       |\n",
      "| Dropout            | 0          | (256,)       |\n",
      "| BatchNormalization | 512        | (256,)       |\n",
      "| BatchNormalization | 512        | (256,)       |\n",
      "| Dense              | 526336     | (2048,)      |\n",
      "| Activation (SELU)  | 0          | (2048,)      |\n",
      "+--------------------+------------+--------------+\n",
      "Total Parameters: 1184512\n",
      "\n"
     ]
    }
   ],
   "source": [
    "rect_mlp.add(Dense(32, input_shape=(n_features,)))\n",
    "rect_mlp.add(Activation('selu'))\n",
    "rect_mlp.add(Dropout(0.25))\n",
    "rect_mlp.add(BatchNormalization())\n",
    "\n",
    "rect_mlp.add(Dense(32))\n",
    "rect_mlp.add(Activation('selu'))\n",
    "rect_mlp.add(Dropout(0.25))\n",
    "rect_mlp.add(BatchNormalization())\n",
    "\n",
    "rect_mlp.add(Dense(32))\n",
    "rect_mlp.add(Activation('selu'))\n",
    "rect_mlp.add(Dropout(0.25))\n",
    "rect_mlp.add(BatchNormalization())\n",
    "\n",
    "rect_mlp.add(Dense(n_features))\n",
    "rect_mlp.add(Activation('selu'))\n",
    "\n",
    "print ()\n",
    "rect_mlp.summary(name=\"MLP\")"
   ]
  },
  {
   "cell_type": "code",
   "execution_count": null,
   "metadata": {},
   "outputs": [],
   "source": [
    "num_epochs = 40\n",
    "batch_size = 256"
   ]
  },
  {
   "cell_type": "code",
   "execution_count": null,
   "metadata": {},
   "outputs": [],
   "source": [
    "print(\"[INFO] Batch size : \", batch_size)\n",
    "print(\"[INFO] Training epochs number : \", num_epochs)\n",
    "train_err_rect, val_err_rect = rect_mlp.fit(X_train, y_train, num_epochs, batch_size)"
   ]
  },
  {
   "cell_type": "code",
   "execution_count": null,
   "metadata": {},
   "outputs": [],
   "source": [
    "index_pred= 98\n",
    "evals(rect_mlp, X_test, y_test, index_pred, opti, train_err_rect, val_err_rect)"
   ]
  },
  {
   "cell_type": "markdown",
   "metadata": {},
   "source": [
    "### Autoencoder like"
   ]
  },
  {
   "cell_type": "code",
   "execution_count": 5,
   "metadata": {},
   "outputs": [],
   "source": [
    "optimizer = Adam()\n",
    "opti = 'Adam'\n",
    "n_features = 2048\n",
    "n_output = 2048\n",
    "clf = NeuralNetwork(optimizer=optimizer,\n",
    "                        loss=SquareLoss,\n",
    "                        validation_data=(X_test, y_test))"
   ]
  },
  {
   "cell_type": "code",
   "execution_count": 6,
   "metadata": {},
   "outputs": [
    {
     "name": "stdout",
     "output_type": "stream",
     "text": [
      "\n",
      "+-----+\n",
      "| MLP |\n",
      "+-----+\n",
      "Input Shape: (2048,)\n",
      "+--------------------+------------+--------------+\n",
      "| Layer Type         | Parameters | Output Shape |\n",
      "+--------------------+------------+--------------+\n",
      "| Dense              | 131136     | (64,)        |\n",
      "| Activation (SELU)  | 0          | (64,)        |\n",
      "| Dropout            | 0          | (64,)        |\n",
      "| BatchNormalization | 128        | (64,)        |\n",
      "| Dense              | 2080       | (32,)        |\n",
      "| Activation (SELU)  | 0          | (32,)        |\n",
      "| Dropout            | 0          | (32,)        |\n",
      "| BatchNormalization | 64         | (32,)        |\n",
      "| Dense              | 528        | (16,)        |\n",
      "| Activation (SELU)  | 0          | (16,)        |\n",
      "| Dropout            | 0          | (16,)        |\n",
      "| BatchNormalization | 32         | (16,)        |\n",
      "| Dense              | 544        | (32,)        |\n",
      "| Activation (SELU)  | 0          | (32,)        |\n",
      "| Dropout            | 0          | (32,)        |\n",
      "| BatchNormalization | 64         | (32,)        |\n",
      "| Dense              | 2112       | (64,)        |\n",
      "| Activation (SELU)  | 0          | (64,)        |\n",
      "| Dropout            | 0          | (64,)        |\n",
      "| BatchNormalization | 128        | (64,)        |\n",
      "| Dense              | 133120     | (2048,)      |\n",
      "| Activation (SELU)  | 0          | (2048,)      |\n",
      "+--------------------+------------+--------------+\n",
      "Total Parameters: 269936\n",
      "\n"
     ]
    }
   ],
   "source": [
    "clf.add(Dense(64, input_shape=(n_features,)))\n",
    "clf.add(Activation('selu'))\n",
    "clf.add(Dropout(0.25))\n",
    "clf.add(BatchNormalization())\n",
    "\n",
    "clf.add(Dense(32))\n",
    "clf.add(Activation('selu'))\n",
    "clf.add(Dropout(0.25))\n",
    "clf.add(BatchNormalization())\n",
    "\n",
    "clf.add(Dense(16))\n",
    "clf.add(Activation('selu'))\n",
    "clf.add(Dropout(0.25))\n",
    "clf.add(BatchNormalization())\n",
    "\n",
    "clf.add(Dense(32))\n",
    "clf.add(Activation('selu'))\n",
    "clf.add(Dropout(0.25))\n",
    "clf.add(BatchNormalization())\n",
    "\n",
    "clf.add(Dense(64))\n",
    "clf.add(Activation('selu'))\n",
    "clf.add(Dropout(0.25))\n",
    "\n",
    "clf.add(BatchNormalization())\n",
    "clf.add(Dense(n_features))\n",
    "clf.add(Activation('selu'))\n",
    "\n",
    "print ()\n",
    "clf.summary(name=\"MLP\")"
   ]
  },
  {
   "cell_type": "markdown",
   "metadata": {},
   "source": [
    "### Train Con2D simple"
   ]
  },
  {
   "cell_type": "code",
   "execution_count": 8,
   "metadata": {},
   "outputs": [],
   "source": [
    "num_epochs = 40\n",
    "batch_size = 256"
   ]
  },
  {
   "cell_type": "code",
   "execution_count": 9,
   "metadata": {},
   "outputs": [
    {
     "name": "stderr",
     "output_type": "stream",
     "text": [
      "Training:   0% [                                               ] ETA:  --:--:--\r"
     ]
    },
    {
     "name": "stdout",
     "output_type": "stream",
     "text": [
      "[INFO] Batch size :  256\n",
      "[INFO] Training epochs number :  40\n"
     ]
    },
    {
     "name": "stderr",
     "output_type": "stream",
     "text": [
      "Training:   2% [-                                               ] ETA:  0:10:05\r"
     ]
    },
    {
     "name": "stdout",
     "output_type": "stream",
     "text": [
      "[INFO] Training loss on epoch  1  :  0.35274\n",
      "[INFO] Validation loss on epoch  1  :  0.30666\n",
      "-------------------------------------------------------------------------------\n"
     ]
    },
    {
     "name": "stderr",
     "output_type": "stream",
     "text": [
      "Training:   5% [--                                              ] ETA:  0:09:56\r"
     ]
    },
    {
     "name": "stdout",
     "output_type": "stream",
     "text": [
      "[INFO] Training loss on epoch  2  :  0.30192\n",
      "[INFO] Validation loss on epoch  2  :  0.28373\n",
      "-------------------------------------------------------------------------------\n"
     ]
    },
    {
     "name": "stderr",
     "output_type": "stream",
     "text": [
      "Training:   7% [---                                             ] ETA:  0:09:39\r"
     ]
    },
    {
     "name": "stdout",
     "output_type": "stream",
     "text": [
      "[INFO] Training loss on epoch  3  :  0.29279\n",
      "[INFO] Validation loss on epoch  3  :  0.27970\n",
      "-------------------------------------------------------------------------------\n"
     ]
    },
    {
     "name": "stderr",
     "output_type": "stream",
     "text": [
      "Training:  10% [----                                            ] ETA:  0:09:25\r"
     ]
    },
    {
     "name": "stdout",
     "output_type": "stream",
     "text": [
      "[INFO] Training loss on epoch  4  :  0.28783\n",
      "[INFO] Validation loss on epoch  4  :  0.27543\n",
      "-------------------------------------------------------------------------------\n"
     ]
    },
    {
     "name": "stderr",
     "output_type": "stream",
     "text": [
      "Training:  12% [------                                          ] ETA:  0:09:12\r"
     ]
    },
    {
     "name": "stdout",
     "output_type": "stream",
     "text": [
      "[INFO] Training loss on epoch  5  :  0.28352\n",
      "[INFO] Validation loss on epoch  5  :  0.27256\n",
      "-------------------------------------------------------------------------------\n"
     ]
    },
    {
     "name": "stderr",
     "output_type": "stream",
     "text": [
      "Training:  15% [-------                                         ] ETA:  0:08:58\r"
     ]
    },
    {
     "name": "stdout",
     "output_type": "stream",
     "text": [
      "[INFO] Training loss on epoch  6  :  0.28176\n",
      "[INFO] Validation loss on epoch  6  :  0.27180\n",
      "-------------------------------------------------------------------------------\n"
     ]
    },
    {
     "name": "stderr",
     "output_type": "stream",
     "text": [
      "Training:  17% [--------                                        ] ETA:  0:08:40\r"
     ]
    },
    {
     "name": "stdout",
     "output_type": "stream",
     "text": [
      "[INFO] Training loss on epoch  7  :  0.28081\n",
      "[INFO] Validation loss on epoch  7  :  0.27132\n",
      "-------------------------------------------------------------------------------\n"
     ]
    },
    {
     "name": "stderr",
     "output_type": "stream",
     "text": [
      "Training:  20% [---------                                       ] ETA:  0:08:23\r"
     ]
    },
    {
     "name": "stdout",
     "output_type": "stream",
     "text": [
      "[INFO] Training loss on epoch  8  :  0.28021\n",
      "[INFO] Validation loss on epoch  8  :  0.27112\n",
      "-------------------------------------------------------------------------------\n"
     ]
    },
    {
     "name": "stderr",
     "output_type": "stream",
     "text": [
      "Training:  22% [----------                                      ] ETA:  0:08:08\r"
     ]
    },
    {
     "name": "stdout",
     "output_type": "stream",
     "text": [
      "[INFO] Training loss on epoch  9  :  0.27949\n",
      "[INFO] Validation loss on epoch  9  :  0.27072\n",
      "-------------------------------------------------------------------------------\n"
     ]
    },
    {
     "name": "stderr",
     "output_type": "stream",
     "text": [
      "Training:  25% [------------                                    ] ETA:  0:07:51\r"
     ]
    },
    {
     "name": "stdout",
     "output_type": "stream",
     "text": [
      "[INFO] Training loss on epoch  10  :  0.27915\n",
      "[INFO] Validation loss on epoch  10  :  0.27046\n",
      "-------------------------------------------------------------------------------\n"
     ]
    },
    {
     "name": "stderr",
     "output_type": "stream",
     "text": [
      "Training:  27% [-------------                                   ] ETA:  0:07:34\r"
     ]
    },
    {
     "name": "stdout",
     "output_type": "stream",
     "text": [
      "[INFO] Training loss on epoch  11  :  0.27874\n",
      "[INFO] Validation loss on epoch  11  :  0.27015\n",
      "-------------------------------------------------------------------------------\n"
     ]
    },
    {
     "name": "stderr",
     "output_type": "stream",
     "text": [
      "Training:  30% [--------------                                  ] ETA:  0:07:18\r"
     ]
    },
    {
     "name": "stdout",
     "output_type": "stream",
     "text": [
      "[INFO] Training loss on epoch  12  :  0.27840\n",
      "[INFO] Validation loss on epoch  12  :  0.26991\n",
      "-------------------------------------------------------------------------------\n"
     ]
    },
    {
     "name": "stderr",
     "output_type": "stream",
     "text": [
      "Training:  32% [---------------                                 ] ETA:  0:07:03\r"
     ]
    },
    {
     "name": "stdout",
     "output_type": "stream",
     "text": [
      "[INFO] Training loss on epoch  13  :  0.27820\n",
      "[INFO] Validation loss on epoch  13  :  0.26957\n",
      "-------------------------------------------------------------------------------\n"
     ]
    },
    {
     "name": "stderr",
     "output_type": "stream",
     "text": [
      "Training:  35% [----------------                                ] ETA:  0:06:47\r"
     ]
    },
    {
     "name": "stdout",
     "output_type": "stream",
     "text": [
      "[INFO] Training loss on epoch  14  :  0.27776\n",
      "[INFO] Validation loss on epoch  14  :  0.26937\n",
      "-------------------------------------------------------------------------------\n"
     ]
    },
    {
     "name": "stderr",
     "output_type": "stream",
     "text": [
      "Training:  37% [------------------                              ] ETA:  0:06:32\r"
     ]
    },
    {
     "name": "stdout",
     "output_type": "stream",
     "text": [
      "[INFO] Training loss on epoch  15  :  0.27752\n",
      "[INFO] Validation loss on epoch  15  :  0.26906\n",
      "-------------------------------------------------------------------------------\n"
     ]
    },
    {
     "name": "stderr",
     "output_type": "stream",
     "text": [
      "Training:  40% [-------------------                             ] ETA:  0:06:16\r"
     ]
    },
    {
     "name": "stdout",
     "output_type": "stream",
     "text": [
      "[INFO] Training loss on epoch  16  :  0.27721\n",
      "[INFO] Validation loss on epoch  16  :  0.26890\n",
      "-------------------------------------------------------------------------------\n"
     ]
    },
    {
     "name": "stderr",
     "output_type": "stream",
     "text": [
      "Training:  42% [--------------------                            ] ETA:  0:06:00\r"
     ]
    },
    {
     "name": "stdout",
     "output_type": "stream",
     "text": [
      "[INFO] Training loss on epoch  17  :  0.27709\n",
      "[INFO] Validation loss on epoch  17  :  0.26876\n",
      "-------------------------------------------------------------------------------\n"
     ]
    },
    {
     "name": "stderr",
     "output_type": "stream",
     "text": [
      "Training:  45% [---------------------                           ] ETA:  0:05:45\r"
     ]
    },
    {
     "name": "stdout",
     "output_type": "stream",
     "text": [
      "[INFO] Training loss on epoch  18  :  0.27687\n",
      "[INFO] Validation loss on epoch  18  :  0.26857\n",
      "-------------------------------------------------------------------------------\n"
     ]
    },
    {
     "name": "stderr",
     "output_type": "stream",
     "text": [
      "Training:  47% [----------------------                          ] ETA:  0:05:29\r"
     ]
    },
    {
     "name": "stdout",
     "output_type": "stream",
     "text": [
      "[INFO] Training loss on epoch  19  :  0.27673\n",
      "[INFO] Validation loss on epoch  19  :  0.26838\n",
      "-------------------------------------------------------------------------------\n"
     ]
    },
    {
     "name": "stderr",
     "output_type": "stream",
     "text": [
      "Training:  50% [------------------------                        ] ETA:  0:05:14\r"
     ]
    },
    {
     "name": "stdout",
     "output_type": "stream",
     "text": [
      "[INFO] Training loss on epoch  20  :  0.27657\n",
      "[INFO] Validation loss on epoch  20  :  0.26829\n",
      "-------------------------------------------------------------------------------\n"
     ]
    },
    {
     "name": "stderr",
     "output_type": "stream",
     "text": [
      "Training:  52% [-------------------------                       ] ETA:  0:04:58\r"
     ]
    },
    {
     "name": "stdout",
     "output_type": "stream",
     "text": [
      "[INFO] Training loss on epoch  21  :  0.27649\n",
      "[INFO] Validation loss on epoch  21  :  0.26828\n",
      "-------------------------------------------------------------------------------\n"
     ]
    },
    {
     "name": "stderr",
     "output_type": "stream",
     "text": [
      "Training:  55% [--------------------------                      ] ETA:  0:04:42\r"
     ]
    },
    {
     "name": "stdout",
     "output_type": "stream",
     "text": [
      "[INFO] Training loss on epoch  22  :  0.27627\n",
      "[INFO] Validation loss on epoch  22  :  0.26814\n",
      "-------------------------------------------------------------------------------\n"
     ]
    },
    {
     "name": "stderr",
     "output_type": "stream",
     "text": [
      "Training:  57% [---------------------------                     ] ETA:  0:04:27\r"
     ]
    },
    {
     "name": "stdout",
     "output_type": "stream",
     "text": [
      "[INFO] Training loss on epoch  23  :  0.27622\n",
      "[INFO] Validation loss on epoch  23  :  0.26798\n",
      "-------------------------------------------------------------------------------\n"
     ]
    },
    {
     "name": "stderr",
     "output_type": "stream",
     "text": [
      "Training:  60% [----------------------------                    ] ETA:  0:04:11\r"
     ]
    },
    {
     "name": "stdout",
     "output_type": "stream",
     "text": [
      "[INFO] Training loss on epoch  24  :  0.27611\n",
      "[INFO] Validation loss on epoch  24  :  0.26788\n",
      "-------------------------------------------------------------------------------\n"
     ]
    },
    {
     "name": "stderr",
     "output_type": "stream",
     "text": [
      "Training:  62% [------------------------------                  ] ETA:  0:03:55\r"
     ]
    },
    {
     "name": "stdout",
     "output_type": "stream",
     "text": [
      "[INFO] Training loss on epoch  25  :  0.27607\n",
      "[INFO] Validation loss on epoch  25  :  0.26785\n",
      "-------------------------------------------------------------------------------\n"
     ]
    },
    {
     "name": "stderr",
     "output_type": "stream",
     "text": [
      "Training:  65% [-------------------------------                 ] ETA:  0:03:40\r"
     ]
    },
    {
     "name": "stdout",
     "output_type": "stream",
     "text": [
      "[INFO] Training loss on epoch  26  :  0.27590\n",
      "[INFO] Validation loss on epoch  26  :  0.26770\n",
      "-------------------------------------------------------------------------------\n"
     ]
    },
    {
     "name": "stderr",
     "output_type": "stream",
     "text": [
      "Training:  67% [--------------------------------                ] ETA:  0:03:25\r"
     ]
    },
    {
     "name": "stdout",
     "output_type": "stream",
     "text": [
      "[INFO] Training loss on epoch  27  :  0.27588\n",
      "[INFO] Validation loss on epoch  27  :  0.26765\n",
      "-------------------------------------------------------------------------------\n"
     ]
    },
    {
     "name": "stderr",
     "output_type": "stream",
     "text": [
      "Training:  70% [---------------------------------               ] ETA:  0:03:10\r"
     ]
    },
    {
     "name": "stdout",
     "output_type": "stream",
     "text": [
      "[INFO] Training loss on epoch  28  :  0.27565\n",
      "[INFO] Validation loss on epoch  28  :  0.26753\n",
      "-------------------------------------------------------------------------------\n"
     ]
    },
    {
     "name": "stderr",
     "output_type": "stream",
     "text": [
      "Training:  72% [----------------------------------              ] ETA:  0:02:54\r"
     ]
    },
    {
     "name": "stdout",
     "output_type": "stream",
     "text": [
      "[INFO] Training loss on epoch  29  :  0.27560\n",
      "[INFO] Validation loss on epoch  29  :  0.26722\n",
      "-------------------------------------------------------------------------------\n"
     ]
    },
    {
     "name": "stderr",
     "output_type": "stream",
     "text": [
      "Training:  75% [------------------------------------            ] ETA:  0:02:38\r"
     ]
    },
    {
     "name": "stdout",
     "output_type": "stream",
     "text": [
      "[INFO] Training loss on epoch  30  :  0.27512\n",
      "[INFO] Validation loss on epoch  30  :  0.26614\n",
      "-------------------------------------------------------------------------------\n"
     ]
    },
    {
     "name": "stderr",
     "output_type": "stream",
     "text": [
      "Training:  77% [-------------------------------------           ] ETA:  0:02:22\r"
     ]
    },
    {
     "name": "stdout",
     "output_type": "stream",
     "text": [
      "[INFO] Training loss on epoch  31  :  0.27435\n",
      "[INFO] Validation loss on epoch  31  :  0.26483\n",
      "-------------------------------------------------------------------------------\n"
     ]
    },
    {
     "name": "stderr",
     "output_type": "stream",
     "text": [
      "Training:  80% [--------------------------------------          ] ETA:  0:02:06\r"
     ]
    },
    {
     "name": "stdout",
     "output_type": "stream",
     "text": [
      "[INFO] Training loss on epoch  32  :  0.27398\n",
      "[INFO] Validation loss on epoch  32  :  0.26409\n",
      "-------------------------------------------------------------------------------\n"
     ]
    },
    {
     "name": "stderr",
     "output_type": "stream",
     "text": [
      "Training:  82% [---------------------------------------         ] ETA:  0:01:50\r"
     ]
    },
    {
     "name": "stdout",
     "output_type": "stream",
     "text": [
      "[INFO] Training loss on epoch  33  :  0.27360\n",
      "[INFO] Validation loss on epoch  33  :  0.26346\n",
      "-------------------------------------------------------------------------------\n"
     ]
    },
    {
     "name": "stderr",
     "output_type": "stream",
     "text": [
      "Training:  85% [----------------------------------------        ] ETA:  0:01:34\r"
     ]
    },
    {
     "name": "stdout",
     "output_type": "stream",
     "text": [
      "[INFO] Training loss on epoch  34  :  0.27314\n",
      "[INFO] Validation loss on epoch  34  :  0.26314\n",
      "-------------------------------------------------------------------------------\n"
     ]
    },
    {
     "name": "stderr",
     "output_type": "stream",
     "text": [
      "Training:  87% [------------------------------------------      ] ETA:  0:01:19\r"
     ]
    },
    {
     "name": "stdout",
     "output_type": "stream",
     "text": [
      "[INFO] Training loss on epoch  35  :  0.27303\n",
      "[INFO] Validation loss on epoch  35  :  0.26273\n",
      "-------------------------------------------------------------------------------\n"
     ]
    },
    {
     "name": "stderr",
     "output_type": "stream",
     "text": [
      "Training:  90% [-------------------------------------------     ] ETA:  0:01:03\r"
     ]
    },
    {
     "name": "stdout",
     "output_type": "stream",
     "text": [
      "[INFO] Training loss on epoch  36  :  0.27277\n",
      "[INFO] Validation loss on epoch  36  :  0.26234\n",
      "-------------------------------------------------------------------------------\n"
     ]
    },
    {
     "name": "stderr",
     "output_type": "stream",
     "text": [
      "Training:  92% [--------------------------------------------    ] ETA:  0:00:47\r"
     ]
    },
    {
     "name": "stdout",
     "output_type": "stream",
     "text": [
      "[INFO] Training loss on epoch  37  :  0.27273\n",
      "[INFO] Validation loss on epoch  37  :  0.26229\n",
      "-------------------------------------------------------------------------------\n"
     ]
    },
    {
     "name": "stderr",
     "output_type": "stream",
     "text": [
      "Training:  95% [---------------------------------------------   ] ETA:  0:00:31\r"
     ]
    },
    {
     "name": "stdout",
     "output_type": "stream",
     "text": [
      "[INFO] Training loss on epoch  38  :  0.27242\n",
      "[INFO] Validation loss on epoch  38  :  0.26187\n",
      "-------------------------------------------------------------------------------\n"
     ]
    },
    {
     "name": "stderr",
     "output_type": "stream",
     "text": [
      "Training:  97% [----------------------------------------------  ] ETA:  0:00:15\r"
     ]
    },
    {
     "name": "stdout",
     "output_type": "stream",
     "text": [
      "[INFO] Training loss on epoch  39  :  0.27215\n",
      "[INFO] Validation loss on epoch  39  :  0.26152\n",
      "-------------------------------------------------------------------------------\n"
     ]
    },
    {
     "name": "stderr",
     "output_type": "stream",
     "text": [
      "Training: 100% [------------------------------------------------] Time: 0:10:31\r"
     ]
    },
    {
     "name": "stdout",
     "output_type": "stream",
     "text": [
      "[INFO] Training loss on epoch  40  :  0.27198\n",
      "[INFO] Validation loss on epoch  40  :  0.26123\n",
      "-------------------------------------------------------------------------------\n"
     ]
    },
    {
     "name": "stderr",
     "output_type": "stream",
     "text": [
      "\n"
     ]
    }
   ],
   "source": [
    "print(\"[INFO] Batch size : \", batch_size)\n",
    "print(\"[INFO] Training epochs number : \", num_epochs)\n",
    "train_err, val_err = clf.fit(X_train, y_train, num_epochs, batch_size=batch_size)"
   ]
  },
  {
   "cell_type": "markdown",
   "metadata": {},
   "source": [
    "### Evaluation"
   ]
  },
  {
   "cell_type": "code",
   "execution_count": 10,
   "metadata": {},
   "outputs": [
    {
     "data": {
      "image/png": "[encoded data removed]",
      "text/plain": [
       "<Figure size 432x288 with 1 Axes>"
      ]
     },
     "metadata": {
      "needs_background": "light"
     },
     "output_type": "display_data"
    }
   ],
   "source": [
    "# Training and validation error plot\n",
    "n = len(train_err)\n",
    "training, = plt.plot(range(n), train_err, label=\"Training Error\")\n",
    "validation, = plt.plot(range(n), val_err, label=\"Validation Error\")\n",
    "plt.legend(handles=[training, validation])\n",
    "plt.title(\"Error Plot using \"+str(opti))\n",
    "plt.ylabel('Error')\n",
    "plt.xlabel('Iterations')\n",
    "plt.show()"
   ]
  },
  {
   "cell_type": "markdown",
   "metadata": {},
   "source": [
    "### Testing"
   ]
  },
  {
   "cell_type": "code",
   "execution_count": 11,
   "metadata": {},
   "outputs": [
    {
     "name": "stdout",
     "output_type": "stream",
     "text": [
      "[[ 5.74690257e-15  8.25002256e-17 -1.31548143e-02 ...  9.63971204e-04\n",
      "   7.66882149e-12  3.09517179e-15]]\n"
     ]
    },
    {
     "data": {
      "image/png": "[encoded data removed]",
      "text/plain": [
       "<Figure size 432x288 with 1 Axes>"
      ]
     },
     "metadata": {
      "needs_background": "light"
     },
     "output_type": "display_data"
    }
   ],
   "source": [
    "index_pred = 54\n",
    "y_pred = clf.predict(X_test[index_pred])\n",
    "print(y_pred)\n",
    "plt.title(\"Predicted Signal\")\n",
    "plt.plot(np.squeeze(np.abs(y_pred)))\n",
    "plt.show()"
   ]
  },
  {
   "cell_type": "code",
   "execution_count": 12,
   "metadata": {},
   "outputs": [
    {
     "data": {
      "image/png": "[encoded data removed]",
      "text/plain": [
       "<Figure size 432x288 with 1 Axes>"
      ]
     },
     "metadata": {
      "needs_background": "light"
     },
     "output_type": "display_data"
    }
   ],
   "source": [
    "plt.title(\"Predicted Signal vs Original\")\n",
    "plt.plot(np.squeeze(np.abs(y_pred)), label=\"prediction\")\n",
    "plt.plot(np.squeeze(np.abs(y_test[index_pred])), label=\"original\")\n",
    "plt.legend()\n",
    "plt.show()"
   ]
  },
  {
   "cell_type": "code",
   "execution_count": 16,
   "metadata": {},
   "outputs": [
    {
     "data": {
      "image/png": "[encoded data removed]",
      "text/plain": [
       "<Figure size 432x288 with 1 Axes>"
      ]
     },
     "metadata": {
      "needs_background": "light"
     },
     "output_type": "display_data"
    },
    {
     "data": {
      "image/png": "[encoded data removed]",
      "text/plain": [
       "<Figure size 432x288 with 1 Axes>"
      ]
     },
     "metadata": {
      "needs_background": "light"
     },
     "output_type": "display_data"
    },
    {
     "data": {
      "image/png": "[encoded data removed]",
      "text/plain": [
       "<Figure size 432x288 with 1 Axes>"
      ]
     },
     "metadata": {
      "needs_background": "light"
     },
     "output_type": "display_data"
    }
   ],
   "source": [
    "index_pred= 98\n",
    "evals(clf, X_test, y_test, index_pred, opti, train_err, val_err)"
   ]
  },
  {
   "cell_type": "markdown",
   "metadata": {},
   "source": [
    "### Train Con2D simple"
   ]
  },
  {
   "cell_type": "code",
   "execution_count": 27,
   "metadata": {},
   "outputs": [],
   "source": [
    "num_epochs = 10\n",
    "batch_size = 32"
   ]
  },
  {
   "cell_type": "code",
   "execution_count": 28,
   "metadata": {},
   "outputs": [
    {
     "name": "stderr",
     "output_type": "stream",
     "text": [
      "Training:   0% [                                               ] ETA:  --:--:--\r"
     ]
    },
    {
     "name": "stdout",
     "output_type": "stream",
     "text": [
      "[INFO] Batch size :  32\n",
      "[INFO] Training epochs number :  10\n"
     ]
    },
    {
     "name": "stderr",
     "output_type": "stream",
     "text": [
      "Training:  10% [----                                            ] ETA:  0:08:01\r"
     ]
    },
    {
     "name": "stdout",
     "output_type": "stream",
     "text": [
      "[INFO] Training loss on epoch  1  :  0.46162\n",
      "[INFO] Validation loss on epoch  1  :  0.62825\n",
      "-------------------------------------------------------------------------------\n"
     ]
    },
    {
     "name": "stderr",
     "output_type": "stream",
     "text": [
      "Training:  20% [---------                                       ] ETA:  0:06:47\r"
     ]
    },
    {
     "name": "stdout",
     "output_type": "stream",
     "text": [
      "[INFO] Training loss on epoch  2  :  0.38110\n",
      "[INFO] Validation loss on epoch  2  :  0.36889\n",
      "-------------------------------------------------------------------------------\n"
     ]
    },
    {
     "name": "stderr",
     "output_type": "stream",
     "text": [
      "Training:  30% [--------------                                  ] ETA:  0:05:47\r"
     ]
    },
    {
     "name": "stdout",
     "output_type": "stream",
     "text": [
      "[INFO] Training loss on epoch  3  :  0.35000\n",
      "[INFO] Validation loss on epoch  3  :  0.32711\n",
      "-------------------------------------------------------------------------------\n"
     ]
    },
    {
     "name": "stderr",
     "output_type": "stream",
     "text": [
      "Training:  40% [-------------------                             ] ETA:  0:04:53\r"
     ]
    },
    {
     "name": "stdout",
     "output_type": "stream",
     "text": [
      "[INFO] Training loss on epoch  4  :  0.33816\n",
      "[INFO] Validation loss on epoch  4  :  0.31680\n",
      "-------------------------------------------------------------------------------\n"
     ]
    },
    {
     "name": "stderr",
     "output_type": "stream",
     "text": [
      "Training:  50% [------------------------                        ] ETA:  0:04:00\r"
     ]
    },
    {
     "name": "stdout",
     "output_type": "stream",
     "text": [
      "[INFO] Training loss on epoch  5  :  0.33085\n",
      "[INFO] Validation loss on epoch  5  :  0.31323\n",
      "-------------------------------------------------------------------------------\n"
     ]
    },
    {
     "name": "stderr",
     "output_type": "stream",
     "text": [
      "Training:  60% [----------------------------                    ] ETA:  0:03:15\r"
     ]
    },
    {
     "name": "stdout",
     "output_type": "stream",
     "text": [
      "[INFO] Training loss on epoch  6  :  0.32529\n",
      "[INFO] Validation loss on epoch  6  :  0.31138\n",
      "-------------------------------------------------------------------------------\n"
     ]
    },
    {
     "name": "stderr",
     "output_type": "stream",
     "text": [
      "Training:  70% [---------------------------------               ] ETA:  0:02:28\r"
     ]
    },
    {
     "name": "stdout",
     "output_type": "stream",
     "text": [
      "[INFO] Training loss on epoch  7  :  0.32103\n",
      "[INFO] Validation loss on epoch  7  :  0.31039\n",
      "-------------------------------------------------------------------------------\n"
     ]
    },
    {
     "name": "stderr",
     "output_type": "stream",
     "text": [
      "Training:  80% [--------------------------------------          ] ETA:  0:01:37\r"
     ]
    },
    {
     "name": "stdout",
     "output_type": "stream",
     "text": [
      "[INFO] Training loss on epoch  8  :  0.31825\n",
      "[INFO] Validation loss on epoch  8  :  0.30951\n",
      "-------------------------------------------------------------------------------\n"
     ]
    },
    {
     "name": "stderr",
     "output_type": "stream",
     "text": [
      "Training:  90% [-------------------------------------------     ] ETA:  0:00:48\r"
     ]
    },
    {
     "name": "stdout",
     "output_type": "stream",
     "text": [
      "[INFO] Training loss on epoch  9  :  0.31598\n",
      "[INFO] Validation loss on epoch  9  :  0.30862\n",
      "-------------------------------------------------------------------------------\n"
     ]
    },
    {
     "name": "stderr",
     "output_type": "stream",
     "text": [
      "Training: 100% [------------------------------------------------] Time: 0:07:56\r"
     ]
    },
    {
     "name": "stdout",
     "output_type": "stream",
     "text": [
      "[INFO] Training loss on epoch  10  :  0.31362\n",
      "[INFO] Validation loss on epoch  10  :  0.30755\n",
      "-------------------------------------------------------------------------------\n"
     ]
    },
    {
     "name": "stderr",
     "output_type": "stream",
     "text": [
      "\n"
     ]
    }
   ],
   "source": [
    "print(\"[INFO] Batch size : \", batch_size)\n",
    "print(\"[INFO] Training epochs number : \", num_epochs)\n",
    "train_err, val_err = clf.fit(X_train, y_train, num_epochs, batch_size=batch_size)"
   ]
  },
  {
   "cell_type": "markdown",
   "metadata": {},
   "source": [
    "### Evaluation"
   ]
  },
  {
   "cell_type": "code",
   "execution_count": 31,
   "metadata": {},
   "outputs": [
    {
     "data": {
      "image/png": "[encoded data removed]",
      "text/plain": [
       "<Figure size 432x288 with 1 Axes>"
      ]
     },
     "metadata": {
      "needs_background": "light"
     },
     "output_type": "display_data"
    }
   ],
   "source": [
    "# Training and validation error plot\n",
    "n = len(train_err)\n",
    "training, = plt.plot(range(n), train_err, label=\"Training Error\")\n",
    "validation, = plt.plot(range(n), val_err, label=\"Validation Error\")\n",
    "plt.legend(handles=[training, validation])\n",
    "plt.title(\"Error Plot using \"+str(opti))\n",
    "plt.ylabel('Error')\n",
    "plt.xlabel('Iterations')\n",
    "plt.show()"
   ]
  },
  {
   "cell_type": "code",
   "execution_count": 32,
   "metadata": {},
   "outputs": [
    {
     "name": "stdout",
     "output_type": "stream",
     "text": [
      "Test loss: 0\n"
     ]
    }
   ],
   "source": [
    "_, loss = clf.test_on_batch(X_test, y_test)\n",
    "print (\"Test loss:\", loss)"
   ]
  },
  {
   "cell_type": "markdown",
   "metadata": {},
   "source": [
    "### Testing the Conv2D"
   ]
  },
  {
   "cell_type": "code",
   "execution_count": 34,
   "metadata": {},
   "outputs": [],
   "source": [
    "x_tester = X_test.reshape(X_test.shape[0], -1, 2,32,32)\n",
    "x_test_original = X_test.reshape(X_test.shape[0], 2048,1)"
   ]
  },
  {
   "cell_type": "code",
   "execution_count": 35,
   "metadata": {},
   "outputs": [],
   "source": [
    "index_pred = 54"
   ]
  },
  {
   "cell_type": "code",
   "execution_count": 36,
   "metadata": {},
   "outputs": [
    {
     "name": "stdout",
     "output_type": "stream",
     "text": [
      "[[0.04409289 0.00688274 0.04464493 ... 0.06249855 0.03349153 0.05991256]]\n"
     ]
    },
    {
     "data": {
      "image/png": "[encoded data removed]",
      "text/plain": [
       "<Figure size 432x288 with 1 Axes>"
      ]
     },
     "metadata": {
      "needs_background": "light"
     },
     "output_type": "display_data"
    }
   ],
   "source": [
    "y_pred = clf.predict(x_tester[index_pred])\n",
    "print(y_pred)\n",
    "plt.title(\"Predicted Signal\")\n",
    "plt.plot(np.squeeze(np.abs(y_pred)))\n",
    "plt.show()"
   ]
  },
  {
   "cell_type": "code",
   "execution_count": 37,
   "metadata": {},
   "outputs": [
    {
     "data": {
      "image/png": "[encoded data removed]",
      "text/plain": [
       "<Figure size 432x288 with 1 Axes>"
      ]
     },
     "metadata": {
      "needs_background": "light"
     },
     "output_type": "display_data"
    }
   ],
   "source": [
    "plt.title(\"Predicted Signal vs Original\")\n",
    "plt.plot(np.squeeze(np.abs(y_pred)), label=\"prediction\")\n",
    "plt.plot(np.squeeze(np.abs(y_test[index_pred])), label=\"original\")\n",
    "plt.legend()\n",
    "plt.show()"
   ]
  },
  {
   "cell_type": "code",
   "execution_count": 38,
   "metadata": {},
   "outputs": [
    {
     "name": "stdout",
     "output_type": "stream",
     "text": [
      "max val : 0.9467448413274234\n",
      "shape  : (1, 2048)\n"
     ]
    }
   ],
   "source": [
    "print (\"max val :\", np.max(y_pred))\n",
    "print (\"shape  :\", y_pred.shape)"
   ]
  },
  {
   "cell_type": "markdown",
   "metadata": {},
   "source": [
    "## More deep Conv2D"
   ]
  },
  {
   "cell_type": "code",
   "execution_count": 50,
   "metadata": {},
   "outputs": [],
   "source": [
    "optimizer = Adam()\n",
    "opti = 'Adam'\n",
    "n_features = 2048\n",
    "n_output = 2048\n",
    "model_deep = NeuralNetwork(optimizer=optimizer,\n",
    "                        loss=SquareLoss,\n",
    "                        validation_data=(X_test, y_test))"
   ]
  },
  {
   "cell_type": "code",
   "execution_count": 51,
   "metadata": {},
   "outputs": [
    {
     "name": "stdout",
     "output_type": "stream",
     "text": [
      "\n",
      "+-------------+\n",
      "| Conv2D-deep |\n",
      "+-------------+\n",
      "Input Shape: (2, 32, 32)\n",
      "+--------------------+------------+---------------+\n",
      "| Layer Type         | Parameters | Output Shape  |\n",
      "+--------------------+------------+---------------+\n",
      "| Conv2D             | 2432       | (128, 32, 32) |\n",
      "| Activation (SELU)  | 0          | (128, 32, 32) |\n",
      "| Dropout            | 0          | (128, 32, 32) |\n",
      "| BatchNormalization | 262144     | (128, 32, 32) |\n",
      "| Conv2D             | 73792      | (64, 32, 32)  |\n",
      "| Activation (SELU)  | 0          | (64, 32, 32)  |\n",
      "| Dropout            | 0          | (64, 32, 32)  |\n",
      "| BatchNormalization | 131072     | (64, 32, 32)  |\n",
      "| Flatten            | 0          | (65536,)      |\n",
      "| Dense              | 2097184    | (32,)         |\n",
      "| Activation (SELU)  | 0          | (32,)         |\n",
      "| Dropout            | 0          | (32,)         |\n",
      "| BatchNormalization | 64         | (32,)         |\n",
      "| Dense              | 528        | (16,)         |\n",
      "| Activation (SELU)  | 0          | (16,)         |\n",
      "| Dropout            | 0          | (16,)         |\n",
      "| BatchNormalization | 32         | (16,)         |\n",
      "| Dense              | 544        | (32,)         |\n",
      "| Activation (SELU)  | 0          | (32,)         |\n",
      "| Dropout            | 0          | (32,)         |\n",
      "| BatchNormalization | 64         | (32,)         |\n",
      "| Dense              | 67584      | (2048,)       |\n",
      "| Activation (SELU)  | 0          | (2048,)       |\n",
      "+--------------------+------------+---------------+\n",
      "Total Parameters: 2635440\n",
      "\n"
     ]
    }
   ],
   "source": [
    "model_deep.add(Conv2D(n_filters=128, filter_shape=(3,3), stride=1, input_shape=(2,32,32), padding='same'))\n",
    "model_deep.add(Activation('selu'))\n",
    "model_deep.add(Dropout(0.25))\n",
    "model_deep.add(BatchNormalization())\n",
    "\n",
    "model_deep.add(Conv2D(n_filters=64, filter_shape=(3,3), stride=1, padding='same'))\n",
    "model_deep.add(Activation('selu'))\n",
    "model_deep.add(Dropout(0.25))\n",
    "model_deep.add(BatchNormalization())\n",
    "\n",
    "model_deep.add(Flatten())\n",
    "\n",
    "model_deep.add(Dense(32))\n",
    "model_deep.add(Activation('selu'))\n",
    "model_deep.add(Dropout(0.4))\n",
    "model_deep.add(BatchNormalization())\n",
    "\n",
    "model_deep.add(Dense(16))\n",
    "model_deep.add(Activation('selu'))\n",
    "model_deep.add(Dropout(0.4))\n",
    "model_deep.add(BatchNormalization())\n",
    "\n",
    "model_deep.add(Dense(32))\n",
    "model_deep.add(Activation('selu'))\n",
    "model_deep.add(Dropout(0.4))\n",
    "model_deep.add(BatchNormalization())\n",
    "\n",
    "model_deep.add(Dense(n_output))\n",
    "model_deep.add(Activation('selu'))\n",
    "print ()\n",
    "model_deep.summary(name=\"Conv2D-deep\")"
   ]
  },
  {
   "cell_type": "markdown",
   "metadata": {},
   "source": [
    "### Training the model"
   ]
  },
  {
   "cell_type": "code",
   "execution_count": 52,
   "metadata": {},
   "outputs": [],
   "source": [
    "num_epochs = 5\n",
    "batch_size = 4"
   ]
  },
  {
   "cell_type": "code",
   "execution_count": null,
   "metadata": {},
   "outputs": [
    {
     "name": "stderr",
     "output_type": "stream",
     "text": [
      "Training:   0% [                                               ] ETA:  --:--:--\r"
     ]
    },
    {
     "name": "stdout",
     "output_type": "stream",
     "text": [
      "[INFO] Batch size :  4\n",
      "[INFO] Training epochs number :  5\n"
     ]
    }
   ],
   "source": [
    "print(\"[INFO] Batch size : \", batch_size)\n",
    "print(\"[INFO] Training epochs number : \", num_epochs)\n",
    "train_err, val_err = model_deep.fit(X_train, y_train, num_epochs, batch_size=batch_size)"
   ]
  }
 ],
 "metadata": {
  "kernelspec": {
   "display_name": "Python 3.6.8 64-bit",
   "language": "python",
   "name": "python36864bit5d1453442e8543df8126f0c5c89733bf"
  },
  "language_info": {
   "codemirror_mode": {
    "name": "ipython",
    "version": 3
   },
   "file_extension": ".py",
   "mimetype": "text/x-python",
   "name": "python",
   "nbconvert_exporter": "python",
   "pygments_lexer": "ipython3",
   "version": "3.6.8"
  }
 },
 "nbformat": 4,
 "nbformat_minor": 2
}
